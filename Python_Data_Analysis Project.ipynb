{
 "cells": [
  {
   "cell_type": "markdown",
   "metadata": {
    "id": "jcjhePTczbDT"
   },
   "source": [
    "# PYTHON DATA ANALYSIS"
   ]
  },
  {
   "cell_type": "markdown",
   "metadata": {
    "id": "3HV_WMyjzbDZ"
   },
   "source": [
    "## Outline\n",
    "- Data Analysis Steps\n",
    "- Full Data Analysis Case-study\n",
    "    - BikeStores Analysis"
   ]
  },
  {
   "cell_type": "markdown",
   "metadata": {
    "id": "bclBnIb-zbDd"
   },
   "source": [
    "# Full Data Analysis Case-study (BikeStores Analysis)"
   ]
  },
  {
   "cell_type": "markdown",
   "metadata": {
    "id": "fM5VhCv3zbDe"
   },
   "source": [
    "### 1] Libraries & Data Importing"
   ]
  },
  {
   "cell_type": "markdown",
   "metadata": {
    "id": "o_PB64nIzbDf"
   },
   "source": [
    "##### Import libraries and read in the BikeStores csv file"
   ]
  },
  {
   "cell_type": "code",
   "execution_count": 1,
   "metadata": {
    "id": "Cdunbqv4zbDj"
   },
   "outputs": [],
   "source": [
    "import numpy as np\n",
    "import pandas as pd"
   ]
  },
  {
   "cell_type": "code",
   "execution_count": 3,
   "metadata": {},
   "outputs": [],
   "source": [
    "df=pd.read_csv('BikeStores.csv')"
   ]
  },
  {
   "cell_type": "markdown",
   "metadata": {
    "id": "wTNMLj0FzbDk"
   },
   "source": [
    "### 2] Data Understanding (Asking Questions)"
   ]
  },
  {
   "cell_type": "code",
   "execution_count": null,
   "metadata": {},
   "outputs": [],
   "source": [
    "#1- read data\n",
    "#2- print head and tail\n",
    "#3- info about data\n",
    "#4- describe data\n",
    "#5- Check missing values\n",
    "#6- if missing values in any column ---> handle\n",
    "#7- unique values and value count for each column\n",
    "#8- shape of data "
   ]
  },
  {
   "cell_type": "markdown",
   "metadata": {
    "id": "BRiR3MWNzbDl"
   },
   "source": [
    "##### Check the content of the DataFrame"
   ]
  },
  {
   "cell_type": "code",
   "execution_count": 5,
   "metadata": {
    "id": "pl96ad_xe503"
   },
   "outputs": [
    {
     "data": {
      "text/html": [
       "<div>\n",
       "<style scoped>\n",
       "    .dataframe tbody tr th:only-of-type {\n",
       "        vertical-align: middle;\n",
       "    }\n",
       "\n",
       "    .dataframe tbody tr th {\n",
       "        vertical-align: top;\n",
       "    }\n",
       "\n",
       "    .dataframe thead th {\n",
       "        text-align: right;\n",
       "    }\n",
       "</style>\n",
       "<table border=\"1\" class=\"dataframe\">\n",
       "  <thead>\n",
       "    <tr style=\"text-align: right;\">\n",
       "      <th></th>\n",
       "      <th>order_id</th>\n",
       "      <th>customers</th>\n",
       "      <th>city</th>\n",
       "      <th>state</th>\n",
       "      <th>order_date</th>\n",
       "      <th>total_units</th>\n",
       "      <th>revenue</th>\n",
       "      <th>product_name</th>\n",
       "      <th>category_name</th>\n",
       "      <th>brand_name</th>\n",
       "      <th>store_name</th>\n",
       "      <th>sales_rep</th>\n",
       "    </tr>\n",
       "  </thead>\n",
       "  <tbody>\n",
       "    <tr>\n",
       "      <th>0</th>\n",
       "      <td>1</td>\n",
       "      <td>Johnathan Velazquez</td>\n",
       "      <td>Pleasanton</td>\n",
       "      <td>CA</td>\n",
       "      <td>1/1/2016</td>\n",
       "      <td>2</td>\n",
       "      <td>1199.98</td>\n",
       "      <td>Electra Townie Original 7D EQ - 2016</td>\n",
       "      <td>Cruisers Bicycles</td>\n",
       "      <td>Electra</td>\n",
       "      <td>Santa Cruz Bikes</td>\n",
       "      <td>Mireya Copeland</td>\n",
       "    </tr>\n",
       "    <tr>\n",
       "      <th>1</th>\n",
       "      <td>1</td>\n",
       "      <td>Johnathan Velazquez</td>\n",
       "      <td>Pleasanton</td>\n",
       "      <td>CA</td>\n",
       "      <td>1/1/2016</td>\n",
       "      <td>1</td>\n",
       "      <td>599.99</td>\n",
       "      <td>Electra Townie Original 7D EQ - Women's - 2016</td>\n",
       "      <td>Cruisers Bicycles</td>\n",
       "      <td>Electra</td>\n",
       "      <td>Santa Cruz Bikes</td>\n",
       "      <td>Mireya Copeland</td>\n",
       "    </tr>\n",
       "    <tr>\n",
       "      <th>2</th>\n",
       "      <td>1</td>\n",
       "      <td>Johnathan Velazquez</td>\n",
       "      <td>Pleasanton</td>\n",
       "      <td>CA</td>\n",
       "      <td>1/1/2016</td>\n",
       "      <td>2</td>\n",
       "      <td>3098.00</td>\n",
       "      <td>Surly Straggler - 2016</td>\n",
       "      <td>Cyclocross Bicycles</td>\n",
       "      <td>Surly</td>\n",
       "      <td>Santa Cruz Bikes</td>\n",
       "      <td>Mireya Copeland</td>\n",
       "    </tr>\n",
       "    <tr>\n",
       "      <th>3</th>\n",
       "      <td>1</td>\n",
       "      <td>Johnathan Velazquez</td>\n",
       "      <td>Pleasanton</td>\n",
       "      <td>CA</td>\n",
       "      <td>1/1/2016</td>\n",
       "      <td>1</td>\n",
       "      <td>2899.99</td>\n",
       "      <td>Trek Fuel EX 8 29 - 2016</td>\n",
       "      <td>Mountain Bikes</td>\n",
       "      <td>Trek</td>\n",
       "      <td>Santa Cruz Bikes</td>\n",
       "      <td>Mireya Copeland</td>\n",
       "    </tr>\n",
       "    <tr>\n",
       "      <th>4</th>\n",
       "      <td>1</td>\n",
       "      <td>Johnathan Velazquez</td>\n",
       "      <td>Pleasanton</td>\n",
       "      <td>CA</td>\n",
       "      <td>1/1/2016</td>\n",
       "      <td>2</td>\n",
       "      <td>3599.98</td>\n",
       "      <td>Trek Remedy 29 Carbon Frameset - 2016</td>\n",
       "      <td>Mountain Bikes</td>\n",
       "      <td>Trek</td>\n",
       "      <td>Santa Cruz Bikes</td>\n",
       "      <td>Mireya Copeland</td>\n",
       "    </tr>\n",
       "    <tr>\n",
       "      <th>...</th>\n",
       "      <td>...</td>\n",
       "      <td>...</td>\n",
       "      <td>...</td>\n",
       "      <td>...</td>\n",
       "      <td>...</td>\n",
       "      <td>...</td>\n",
       "      <td>...</td>\n",
       "      <td>...</td>\n",
       "      <td>...</td>\n",
       "      <td>...</td>\n",
       "      <td>...</td>\n",
       "      <td>...</td>\n",
       "    </tr>\n",
       "    <tr>\n",
       "      <th>4717</th>\n",
       "      <td>1614</td>\n",
       "      <td>Dorthey Jackson</td>\n",
       "      <td>Houston</td>\n",
       "      <td>TX</td>\n",
       "      <td>28/11/2018</td>\n",
       "      <td>1</td>\n",
       "      <td>1499.00</td>\n",
       "      <td>Surly Krampus - 2018</td>\n",
       "      <td>Mountain Bikes</td>\n",
       "      <td>Surly</td>\n",
       "      <td>Rowlett Bikes</td>\n",
       "      <td>Kali Vargas</td>\n",
       "    </tr>\n",
       "    <tr>\n",
       "      <th>4718</th>\n",
       "      <td>1614</td>\n",
       "      <td>Dorthey Jackson</td>\n",
       "      <td>Houston</td>\n",
       "      <td>TX</td>\n",
       "      <td>28/11/2018</td>\n",
       "      <td>2</td>\n",
       "      <td>4599.98</td>\n",
       "      <td>Trek Emonda ALR 6 - 2018</td>\n",
       "      <td>Road Bikes</td>\n",
       "      <td>Trek</td>\n",
       "      <td>Rowlett Bikes</td>\n",
       "      <td>Kali Vargas</td>\n",
       "    </tr>\n",
       "    <tr>\n",
       "      <th>4719</th>\n",
       "      <td>1615</td>\n",
       "      <td>Sarita Parks</td>\n",
       "      <td>Forney</td>\n",
       "      <td>TX</td>\n",
       "      <td>28/12/2018</td>\n",
       "      <td>1</td>\n",
       "      <td>899.99</td>\n",
       "      <td>Electra Tiger Shark 3i - 2018</td>\n",
       "      <td>Cruisers Bicycles</td>\n",
       "      <td>Electra</td>\n",
       "      <td>Rowlett Bikes</td>\n",
       "      <td>Kali Vargas</td>\n",
       "    </tr>\n",
       "    <tr>\n",
       "      <th>4720</th>\n",
       "      <td>1615</td>\n",
       "      <td>Sarita Parks</td>\n",
       "      <td>Forney</td>\n",
       "      <td>TX</td>\n",
       "      <td>28/12/2018</td>\n",
       "      <td>1</td>\n",
       "      <td>2499.99</td>\n",
       "      <td>Trek Domane SL 5 Disc - 2018</td>\n",
       "      <td>Road Bikes</td>\n",
       "      <td>Trek</td>\n",
       "      <td>Rowlett Bikes</td>\n",
       "      <td>Kali Vargas</td>\n",
       "    </tr>\n",
       "    <tr>\n",
       "      <th>4721</th>\n",
       "      <td>1615</td>\n",
       "      <td>Sarita Parks</td>\n",
       "      <td>Forney</td>\n",
       "      <td>TX</td>\n",
       "      <td>28/12/2018</td>\n",
       "      <td>2</td>\n",
       "      <td>4599.98</td>\n",
       "      <td>Trek Verve+ Lowstep - 2018</td>\n",
       "      <td>Electric Bikes</td>\n",
       "      <td>Trek</td>\n",
       "      <td>Rowlett Bikes</td>\n",
       "      <td>Kali Vargas</td>\n",
       "    </tr>\n",
       "  </tbody>\n",
       "</table>\n",
       "<p>4722 rows × 12 columns</p>\n",
       "</div>"
      ],
      "text/plain": [
       "      order_id            customers        city state  order_date  \\\n",
       "0            1  Johnathan Velazquez  Pleasanton    CA    1/1/2016   \n",
       "1            1  Johnathan Velazquez  Pleasanton    CA    1/1/2016   \n",
       "2            1  Johnathan Velazquez  Pleasanton    CA    1/1/2016   \n",
       "3            1  Johnathan Velazquez  Pleasanton    CA    1/1/2016   \n",
       "4            1  Johnathan Velazquez  Pleasanton    CA    1/1/2016   \n",
       "...        ...                  ...         ...   ...         ...   \n",
       "4717      1614      Dorthey Jackson     Houston    TX  28/11/2018   \n",
       "4718      1614      Dorthey Jackson     Houston    TX  28/11/2018   \n",
       "4719      1615         Sarita Parks      Forney    TX  28/12/2018   \n",
       "4720      1615         Sarita Parks      Forney    TX  28/12/2018   \n",
       "4721      1615         Sarita Parks      Forney    TX  28/12/2018   \n",
       "\n",
       "      total_units  revenue                                    product_name  \\\n",
       "0               2  1199.98            Electra Townie Original 7D EQ - 2016   \n",
       "1               1   599.99  Electra Townie Original 7D EQ - Women's - 2016   \n",
       "2               2  3098.00                          Surly Straggler - 2016   \n",
       "3               1  2899.99                        Trek Fuel EX 8 29 - 2016   \n",
       "4               2  3599.98           Trek Remedy 29 Carbon Frameset - 2016   \n",
       "...           ...      ...                                             ...   \n",
       "4717            1  1499.00                            Surly Krampus - 2018   \n",
       "4718            2  4599.98                        Trek Emonda ALR 6 - 2018   \n",
       "4719            1   899.99                   Electra Tiger Shark 3i - 2018   \n",
       "4720            1  2499.99                    Trek Domane SL 5 Disc - 2018   \n",
       "4721            2  4599.98                      Trek Verve+ Lowstep - 2018   \n",
       "\n",
       "            category_name brand_name        store_name        sales_rep  \n",
       "0       Cruisers Bicycles    Electra  Santa Cruz Bikes  Mireya Copeland  \n",
       "1       Cruisers Bicycles    Electra  Santa Cruz Bikes  Mireya Copeland  \n",
       "2     Cyclocross Bicycles      Surly  Santa Cruz Bikes  Mireya Copeland  \n",
       "3          Mountain Bikes       Trek  Santa Cruz Bikes  Mireya Copeland  \n",
       "4          Mountain Bikes       Trek  Santa Cruz Bikes  Mireya Copeland  \n",
       "...                   ...        ...               ...              ...  \n",
       "4717       Mountain Bikes      Surly     Rowlett Bikes      Kali Vargas  \n",
       "4718           Road Bikes       Trek     Rowlett Bikes      Kali Vargas  \n",
       "4719    Cruisers Bicycles    Electra     Rowlett Bikes      Kali Vargas  \n",
       "4720           Road Bikes       Trek     Rowlett Bikes      Kali Vargas  \n",
       "4721       Electric Bikes       Trek     Rowlett Bikes      Kali Vargas  \n",
       "\n",
       "[4722 rows x 12 columns]"
      ]
     },
     "execution_count": 5,
     "metadata": {},
     "output_type": "execute_result"
    }
   ],
   "source": [
    "df"
   ]
  },
  {
   "cell_type": "code",
   "execution_count": 7,
   "metadata": {},
   "outputs": [
    {
     "data": {
      "text/html": [
       "<div>\n",
       "<style scoped>\n",
       "    .dataframe tbody tr th:only-of-type {\n",
       "        vertical-align: middle;\n",
       "    }\n",
       "\n",
       "    .dataframe tbody tr th {\n",
       "        vertical-align: top;\n",
       "    }\n",
       "\n",
       "    .dataframe thead th {\n",
       "        text-align: right;\n",
       "    }\n",
       "</style>\n",
       "<table border=\"1\" class=\"dataframe\">\n",
       "  <thead>\n",
       "    <tr style=\"text-align: right;\">\n",
       "      <th></th>\n",
       "      <th>order_id</th>\n",
       "      <th>customers</th>\n",
       "      <th>city</th>\n",
       "      <th>state</th>\n",
       "      <th>order_date</th>\n",
       "      <th>total_units</th>\n",
       "      <th>revenue</th>\n",
       "      <th>product_name</th>\n",
       "      <th>category_name</th>\n",
       "      <th>brand_name</th>\n",
       "      <th>store_name</th>\n",
       "      <th>sales_rep</th>\n",
       "    </tr>\n",
       "  </thead>\n",
       "  <tbody>\n",
       "    <tr>\n",
       "      <th>0</th>\n",
       "      <td>1</td>\n",
       "      <td>Johnathan Velazquez</td>\n",
       "      <td>Pleasanton</td>\n",
       "      <td>CA</td>\n",
       "      <td>1/1/2016</td>\n",
       "      <td>2</td>\n",
       "      <td>1199.98</td>\n",
       "      <td>Electra Townie Original 7D EQ - 2016</td>\n",
       "      <td>Cruisers Bicycles</td>\n",
       "      <td>Electra</td>\n",
       "      <td>Santa Cruz Bikes</td>\n",
       "      <td>Mireya Copeland</td>\n",
       "    </tr>\n",
       "    <tr>\n",
       "      <th>1</th>\n",
       "      <td>1</td>\n",
       "      <td>Johnathan Velazquez</td>\n",
       "      <td>Pleasanton</td>\n",
       "      <td>CA</td>\n",
       "      <td>1/1/2016</td>\n",
       "      <td>1</td>\n",
       "      <td>599.99</td>\n",
       "      <td>Electra Townie Original 7D EQ - Women's - 2016</td>\n",
       "      <td>Cruisers Bicycles</td>\n",
       "      <td>Electra</td>\n",
       "      <td>Santa Cruz Bikes</td>\n",
       "      <td>Mireya Copeland</td>\n",
       "    </tr>\n",
       "    <tr>\n",
       "      <th>2</th>\n",
       "      <td>1</td>\n",
       "      <td>Johnathan Velazquez</td>\n",
       "      <td>Pleasanton</td>\n",
       "      <td>CA</td>\n",
       "      <td>1/1/2016</td>\n",
       "      <td>2</td>\n",
       "      <td>3098.00</td>\n",
       "      <td>Surly Straggler - 2016</td>\n",
       "      <td>Cyclocross Bicycles</td>\n",
       "      <td>Surly</td>\n",
       "      <td>Santa Cruz Bikes</td>\n",
       "      <td>Mireya Copeland</td>\n",
       "    </tr>\n",
       "    <tr>\n",
       "      <th>3</th>\n",
       "      <td>1</td>\n",
       "      <td>Johnathan Velazquez</td>\n",
       "      <td>Pleasanton</td>\n",
       "      <td>CA</td>\n",
       "      <td>1/1/2016</td>\n",
       "      <td>1</td>\n",
       "      <td>2899.99</td>\n",
       "      <td>Trek Fuel EX 8 29 - 2016</td>\n",
       "      <td>Mountain Bikes</td>\n",
       "      <td>Trek</td>\n",
       "      <td>Santa Cruz Bikes</td>\n",
       "      <td>Mireya Copeland</td>\n",
       "    </tr>\n",
       "    <tr>\n",
       "      <th>4</th>\n",
       "      <td>1</td>\n",
       "      <td>Johnathan Velazquez</td>\n",
       "      <td>Pleasanton</td>\n",
       "      <td>CA</td>\n",
       "      <td>1/1/2016</td>\n",
       "      <td>2</td>\n",
       "      <td>3599.98</td>\n",
       "      <td>Trek Remedy 29 Carbon Frameset - 2016</td>\n",
       "      <td>Mountain Bikes</td>\n",
       "      <td>Trek</td>\n",
       "      <td>Santa Cruz Bikes</td>\n",
       "      <td>Mireya Copeland</td>\n",
       "    </tr>\n",
       "  </tbody>\n",
       "</table>\n",
       "</div>"
      ],
      "text/plain": [
       "   order_id            customers        city state order_date  total_units  \\\n",
       "0         1  Johnathan Velazquez  Pleasanton    CA   1/1/2016            2   \n",
       "1         1  Johnathan Velazquez  Pleasanton    CA   1/1/2016            1   \n",
       "2         1  Johnathan Velazquez  Pleasanton    CA   1/1/2016            2   \n",
       "3         1  Johnathan Velazquez  Pleasanton    CA   1/1/2016            1   \n",
       "4         1  Johnathan Velazquez  Pleasanton    CA   1/1/2016            2   \n",
       "\n",
       "   revenue                                    product_name  \\\n",
       "0  1199.98            Electra Townie Original 7D EQ - 2016   \n",
       "1   599.99  Electra Townie Original 7D EQ - Women's - 2016   \n",
       "2  3098.00                          Surly Straggler - 2016   \n",
       "3  2899.99                        Trek Fuel EX 8 29 - 2016   \n",
       "4  3599.98           Trek Remedy 29 Carbon Frameset - 2016   \n",
       "\n",
       "         category_name brand_name        store_name        sales_rep  \n",
       "0    Cruisers Bicycles    Electra  Santa Cruz Bikes  Mireya Copeland  \n",
       "1    Cruisers Bicycles    Electra  Santa Cruz Bikes  Mireya Copeland  \n",
       "2  Cyclocross Bicycles      Surly  Santa Cruz Bikes  Mireya Copeland  \n",
       "3       Mountain Bikes       Trek  Santa Cruz Bikes  Mireya Copeland  \n",
       "4       Mountain Bikes       Trek  Santa Cruz Bikes  Mireya Copeland  "
      ]
     },
     "execution_count": 7,
     "metadata": {},
     "output_type": "execute_result"
    }
   ],
   "source": [
    "df.head()"
   ]
  },
  {
   "cell_type": "code",
   "execution_count": 9,
   "metadata": {},
   "outputs": [
    {
     "data": {
      "text/html": [
       "<div>\n",
       "<style scoped>\n",
       "    .dataframe tbody tr th:only-of-type {\n",
       "        vertical-align: middle;\n",
       "    }\n",
       "\n",
       "    .dataframe tbody tr th {\n",
       "        vertical-align: top;\n",
       "    }\n",
       "\n",
       "    .dataframe thead th {\n",
       "        text-align: right;\n",
       "    }\n",
       "</style>\n",
       "<table border=\"1\" class=\"dataframe\">\n",
       "  <thead>\n",
       "    <tr style=\"text-align: right;\">\n",
       "      <th></th>\n",
       "      <th>order_id</th>\n",
       "      <th>customers</th>\n",
       "      <th>city</th>\n",
       "      <th>state</th>\n",
       "      <th>order_date</th>\n",
       "      <th>total_units</th>\n",
       "      <th>revenue</th>\n",
       "      <th>product_name</th>\n",
       "      <th>category_name</th>\n",
       "      <th>brand_name</th>\n",
       "      <th>store_name</th>\n",
       "      <th>sales_rep</th>\n",
       "    </tr>\n",
       "  </thead>\n",
       "  <tbody>\n",
       "    <tr>\n",
       "      <th>4717</th>\n",
       "      <td>1614</td>\n",
       "      <td>Dorthey Jackson</td>\n",
       "      <td>Houston</td>\n",
       "      <td>TX</td>\n",
       "      <td>28/11/2018</td>\n",
       "      <td>1</td>\n",
       "      <td>1499.00</td>\n",
       "      <td>Surly Krampus - 2018</td>\n",
       "      <td>Mountain Bikes</td>\n",
       "      <td>Surly</td>\n",
       "      <td>Rowlett Bikes</td>\n",
       "      <td>Kali Vargas</td>\n",
       "    </tr>\n",
       "    <tr>\n",
       "      <th>4718</th>\n",
       "      <td>1614</td>\n",
       "      <td>Dorthey Jackson</td>\n",
       "      <td>Houston</td>\n",
       "      <td>TX</td>\n",
       "      <td>28/11/2018</td>\n",
       "      <td>2</td>\n",
       "      <td>4599.98</td>\n",
       "      <td>Trek Emonda ALR 6 - 2018</td>\n",
       "      <td>Road Bikes</td>\n",
       "      <td>Trek</td>\n",
       "      <td>Rowlett Bikes</td>\n",
       "      <td>Kali Vargas</td>\n",
       "    </tr>\n",
       "    <tr>\n",
       "      <th>4719</th>\n",
       "      <td>1615</td>\n",
       "      <td>Sarita Parks</td>\n",
       "      <td>Forney</td>\n",
       "      <td>TX</td>\n",
       "      <td>28/12/2018</td>\n",
       "      <td>1</td>\n",
       "      <td>899.99</td>\n",
       "      <td>Electra Tiger Shark 3i - 2018</td>\n",
       "      <td>Cruisers Bicycles</td>\n",
       "      <td>Electra</td>\n",
       "      <td>Rowlett Bikes</td>\n",
       "      <td>Kali Vargas</td>\n",
       "    </tr>\n",
       "    <tr>\n",
       "      <th>4720</th>\n",
       "      <td>1615</td>\n",
       "      <td>Sarita Parks</td>\n",
       "      <td>Forney</td>\n",
       "      <td>TX</td>\n",
       "      <td>28/12/2018</td>\n",
       "      <td>1</td>\n",
       "      <td>2499.99</td>\n",
       "      <td>Trek Domane SL 5 Disc - 2018</td>\n",
       "      <td>Road Bikes</td>\n",
       "      <td>Trek</td>\n",
       "      <td>Rowlett Bikes</td>\n",
       "      <td>Kali Vargas</td>\n",
       "    </tr>\n",
       "    <tr>\n",
       "      <th>4721</th>\n",
       "      <td>1615</td>\n",
       "      <td>Sarita Parks</td>\n",
       "      <td>Forney</td>\n",
       "      <td>TX</td>\n",
       "      <td>28/12/2018</td>\n",
       "      <td>2</td>\n",
       "      <td>4599.98</td>\n",
       "      <td>Trek Verve+ Lowstep - 2018</td>\n",
       "      <td>Electric Bikes</td>\n",
       "      <td>Trek</td>\n",
       "      <td>Rowlett Bikes</td>\n",
       "      <td>Kali Vargas</td>\n",
       "    </tr>\n",
       "  </tbody>\n",
       "</table>\n",
       "</div>"
      ],
      "text/plain": [
       "      order_id        customers     city state  order_date  total_units  \\\n",
       "4717      1614  Dorthey Jackson  Houston    TX  28/11/2018            1   \n",
       "4718      1614  Dorthey Jackson  Houston    TX  28/11/2018            2   \n",
       "4719      1615     Sarita Parks   Forney    TX  28/12/2018            1   \n",
       "4720      1615     Sarita Parks   Forney    TX  28/12/2018            1   \n",
       "4721      1615     Sarita Parks   Forney    TX  28/12/2018            2   \n",
       "\n",
       "      revenue                   product_name      category_name brand_name  \\\n",
       "4717  1499.00           Surly Krampus - 2018     Mountain Bikes      Surly   \n",
       "4718  4599.98       Trek Emonda ALR 6 - 2018         Road Bikes       Trek   \n",
       "4719   899.99  Electra Tiger Shark 3i - 2018  Cruisers Bicycles    Electra   \n",
       "4720  2499.99   Trek Domane SL 5 Disc - 2018         Road Bikes       Trek   \n",
       "4721  4599.98     Trek Verve+ Lowstep - 2018     Electric Bikes       Trek   \n",
       "\n",
       "         store_name    sales_rep  \n",
       "4717  Rowlett Bikes  Kali Vargas  \n",
       "4718  Rowlett Bikes  Kali Vargas  \n",
       "4719  Rowlett Bikes  Kali Vargas  \n",
       "4720  Rowlett Bikes  Kali Vargas  \n",
       "4721  Rowlett Bikes  Kali Vargas  "
      ]
     },
     "execution_count": 9,
     "metadata": {},
     "output_type": "execute_result"
    }
   ],
   "source": [
    "df.tail()"
   ]
  },
  {
   "cell_type": "code",
   "execution_count": 150,
   "metadata": {},
   "outputs": [
    {
     "data": {
      "text/plain": [
       "1615"
      ]
     },
     "execution_count": 150,
     "metadata": {},
     "output_type": "execute_result"
    }
   ],
   "source": [
    "df['order_id'].nunique()"
   ]
  },
  {
   "cell_type": "code",
   "execution_count": 103,
   "metadata": {},
   "outputs": [
    {
     "data": {
      "text/plain": [
       "order_id\n",
       "1       5\n",
       "1168    5\n",
       "1139    5\n",
       "389     5\n",
       "1142    5\n",
       "       ..\n",
       "1339    1\n",
       "1338    1\n",
       "1337    1\n",
       "1335    1\n",
       "273     1\n",
       "Name: count, Length: 1615, dtype: int64"
      ]
     },
     "execution_count": 103,
     "metadata": {},
     "output_type": "execute_result"
    }
   ],
   "source": [
    "df['order_id'].value_counts()"
   ]
  },
  {
   "cell_type": "code",
   "execution_count": 109,
   "metadata": {},
   "outputs": [
    {
     "data": {
      "text/plain": [
       "1444"
      ]
     },
     "execution_count": 109,
     "metadata": {},
     "output_type": "execute_result"
    }
   ],
   "source": [
    "df['customers'].nunique()"
   ]
  },
  {
   "cell_type": "code",
   "execution_count": 127,
   "metadata": {},
   "outputs": [
    {
     "data": {
      "text/plain": [
       "customers\n",
       "Tameka Fisher      13\n",
       "Emmitt Sanchez     12\n",
       "Pamelia Newman     11\n",
       "Debra Burks        11\n",
       "Lyndsey Bean       11\n",
       "                   ..\n",
       "Karren Lamb         1\n",
       "Nicki Fry           1\n",
       "Kristel Bullock     1\n",
       "Charlsie Carson     1\n",
       "Son Warner          1\n",
       "Name: count, Length: 1444, dtype: int64"
      ]
     },
     "execution_count": 127,
     "metadata": {},
     "output_type": "execute_result"
    }
   ],
   "source": [
    "df['customers'].value_counts()"
   ]
  },
  {
   "cell_type": "code",
   "execution_count": 111,
   "metadata": {},
   "outputs": [
    {
     "data": {
      "text/plain": [
       "195"
      ]
     },
     "execution_count": 111,
     "metadata": {},
     "output_type": "execute_result"
    }
   ],
   "source": [
    "df['city'].nunique()"
   ]
  },
  {
   "cell_type": "code",
   "execution_count": 129,
   "metadata": {},
   "outputs": [
    {
     "data": {
      "text/plain": [
       "city\n",
       "Scarsdale              61\n",
       "Mount Vernon           60\n",
       "San Angelo             53\n",
       "Ballston Spa           52\n",
       "Canandaigua            50\n",
       "                       ..\n",
       "Middle Village          3\n",
       "Yuba City               3\n",
       "Springfield Gardens     3\n",
       "Tonawanda               2\n",
       "Westbury                2\n",
       "Name: count, Length: 195, dtype: int64"
      ]
     },
     "execution_count": 129,
     "metadata": {},
     "output_type": "execute_result"
    }
   ],
   "source": [
    "df['city'].value_counts()"
   ]
  },
  {
   "cell_type": "code",
   "execution_count": 113,
   "metadata": {},
   "outputs": [
    {
     "data": {
      "text/plain": [
       "3"
      ]
     },
     "execution_count": 113,
     "metadata": {},
     "output_type": "execute_result"
    }
   ],
   "source": [
    "df['state'].nunique()"
   ]
  },
  {
   "cell_type": "code",
   "execution_count": 131,
   "metadata": {},
   "outputs": [
    {
     "data": {
      "text/plain": [
       "state\n",
       "NY    3195\n",
       "CA    1006\n",
       "TX     521\n",
       "Name: count, dtype: int64"
      ]
     },
     "execution_count": 131,
     "metadata": {},
     "output_type": "execute_result"
    }
   ],
   "source": [
    "df['state'].value_counts()"
   ]
  },
  {
   "cell_type": "code",
   "execution_count": 115,
   "metadata": {},
   "outputs": [
    {
     "data": {
      "text/plain": [
       "725"
      ]
     },
     "execution_count": 115,
     "metadata": {},
     "output_type": "execute_result"
    }
   ],
   "source": [
    "df['order_date'].nunique()"
   ]
  },
  {
   "cell_type": "code",
   "execution_count": 133,
   "metadata": {},
   "outputs": [
    {
     "data": {
      "text/plain": [
       "order_date\n",
       "6/4/2018      27\n",
       "12/4/2018     25\n",
       "20/3/2018     24\n",
       "17/4/2018     24\n",
       "1/10/2017     24\n",
       "              ..\n",
       "2/3/2017       1\n",
       "8/2/2016       1\n",
       "17/10/2016     1\n",
       "24/10/2017     1\n",
       "3/12/2016      1\n",
       "Name: count, Length: 725, dtype: int64"
      ]
     },
     "execution_count": 133,
     "metadata": {},
     "output_type": "execute_result"
    }
   ],
   "source": [
    "df['order_date'].value_counts()"
   ]
  },
  {
   "cell_type": "code",
   "execution_count": 117,
   "metadata": {},
   "outputs": [
    {
     "data": {
      "text/plain": [
       "278"
      ]
     },
     "execution_count": 117,
     "metadata": {},
     "output_type": "execute_result"
    }
   ],
   "source": [
    "df['product_name'].nunique()"
   ]
  },
  {
   "cell_type": "code",
   "execution_count": 135,
   "metadata": {},
   "outputs": [
    {
     "data": {
      "text/plain": [
       "product_name\n",
       "Electra Townie Original 21D - 2016                 193\n",
       "Electra Cruiser 1 (24-Inch) - 2016                 193\n",
       "Electra Townie Original 7D EQ - 2016               185\n",
       "Electra Girl's Hawaii 1 (16-inch) - 2015/2016      180\n",
       "Surly Ice Cream Truck Frameset - 2016              110\n",
       "                                                  ... \n",
       "Electra Tiger Shark 3i (20-inch) - Boys' - 2018      1\n",
       "Trek Precaliber 24 21-speed Girl's - 2018            1\n",
       "Electra Straight 8 1 (16-inch) - Boy's - 2018        1\n",
       "Trek Precaliber 20 6-speed Girl's - 2018             1\n",
       "Electra Superbolt 1 20\" - 2018                       1\n",
       "Name: count, Length: 278, dtype: int64"
      ]
     },
     "execution_count": 135,
     "metadata": {},
     "output_type": "execute_result"
    }
   ],
   "source": [
    "df['product_name'].value_counts()"
   ]
  },
  {
   "cell_type": "code",
   "execution_count": 119,
   "metadata": {},
   "outputs": [
    {
     "data": {
      "text/plain": [
       "7"
      ]
     },
     "execution_count": 119,
     "metadata": {},
     "output_type": "execute_result"
    }
   ],
   "source": [
    "df['category_name'].nunique()"
   ]
  },
  {
   "cell_type": "code",
   "execution_count": 137,
   "metadata": {},
   "outputs": [
    {
     "data": {
      "text/plain": [
       "category_name\n",
       "Cruisers Bicycles      1378\n",
       "Mountain Bikes         1183\n",
       "Children Bicycles       782\n",
       "Comfort Bicycles        537\n",
       "Road Bikes              374\n",
       "Cyclocross Bicycles     256\n",
       "Electric Bikes          212\n",
       "Name: count, dtype: int64"
      ]
     },
     "execution_count": 137,
     "metadata": {},
     "output_type": "execute_result"
    }
   ],
   "source": [
    "df['category_name'].value_counts()"
   ]
  },
  {
   "cell_type": "code",
   "execution_count": 121,
   "metadata": {},
   "outputs": [
    {
     "data": {
      "text/plain": [
       "9"
      ]
     },
     "execution_count": 121,
     "metadata": {},
     "output_type": "execute_result"
    }
   ],
   "source": [
    "df['brand_name'].nunique()"
   ]
  },
  {
   "cell_type": "code",
   "execution_count": 139,
   "metadata": {},
   "outputs": [
    {
     "data": {
      "text/plain": [
       "brand_name\n",
       "Electra         1729\n",
       "Trek            1235\n",
       "Surly            605\n",
       "Sun Bicycles     485\n",
       "Pure Cycles      258\n",
       "Haro             220\n",
       "Heller            97\n",
       "Ritchey           77\n",
       "Strider           16\n",
       "Name: count, dtype: int64"
      ]
     },
     "execution_count": 139,
     "metadata": {},
     "output_type": "execute_result"
    }
   ],
   "source": [
    "df['brand_name'].value_counts()"
   ]
  },
  {
   "cell_type": "code",
   "execution_count": 123,
   "metadata": {},
   "outputs": [
    {
     "data": {
      "text/plain": [
       "3"
      ]
     },
     "execution_count": 123,
     "metadata": {},
     "output_type": "execute_result"
    }
   ],
   "source": [
    "df['store_name'].nunique()"
   ]
  },
  {
   "cell_type": "code",
   "execution_count": 141,
   "metadata": {},
   "outputs": [
    {
     "data": {
      "text/plain": [
       "store_name\n",
       "Baldwin Bikes       3195\n",
       "Santa Cruz Bikes    1006\n",
       "Rowlett Bikes        521\n",
       "Name: count, dtype: int64"
      ]
     },
     "execution_count": 141,
     "metadata": {},
     "output_type": "execute_result"
    }
   ],
   "source": [
    "df['store_name'].value_counts()"
   ]
  },
  {
   "cell_type": "code",
   "execution_count": 125,
   "metadata": {},
   "outputs": [
    {
     "data": {
      "text/plain": [
       "6"
      ]
     },
     "execution_count": 125,
     "metadata": {},
     "output_type": "execute_result"
    }
   ],
   "source": [
    "df['sales_rep'].nunique()"
   ]
  },
  {
   "cell_type": "code",
   "execution_count": 143,
   "metadata": {},
   "outputs": [
    {
     "data": {
      "text/plain": [
       "sales_rep\n",
       "Marcelene Boyer    1615\n",
       "Venita Daniel      1580\n",
       "Genna Serrano       544\n",
       "Mireya Copeland     462\n",
       "Kali Vargas         269\n",
       "Layla Terrell       252\n",
       "Name: count, dtype: int64"
      ]
     },
     "execution_count": 143,
     "metadata": {},
     "output_type": "execute_result"
    }
   ],
   "source": [
    "df['sales_rep'].value_counts()"
   ]
  },
  {
   "cell_type": "markdown",
   "metadata": {
    "id": "yQf6NX_FzbDm"
   },
   "source": [
    "##### How many rows and columns are there?"
   ]
  },
  {
   "cell_type": "code",
   "execution_count": 25,
   "metadata": {
    "id": "_T1vW8tozbDn"
   },
   "outputs": [
    {
     "data": {
      "text/plain": [
       "(4722, 12)"
      ]
     },
     "execution_count": 25,
     "metadata": {},
     "output_type": "execute_result"
    }
   ],
   "source": [
    "# Rows, Columns\n",
    "df.shape"
   ]
  },
  {
   "cell_type": "markdown",
   "metadata": {},
   "source": [
    "##### Check the data types "
   ]
  },
  {
   "cell_type": "code",
   "execution_count": 29,
   "metadata": {},
   "outputs": [
    {
     "name": "stdout",
     "output_type": "stream",
     "text": [
      "<class 'pandas.core.frame.DataFrame'>\n",
      "RangeIndex: 4722 entries, 0 to 4721\n",
      "Data columns (total 12 columns):\n",
      " #   Column         Non-Null Count  Dtype  \n",
      "---  ------         --------------  -----  \n",
      " 0   order_id       4722 non-null   int64  \n",
      " 1   customers      4722 non-null   object \n",
      " 2   city           4722 non-null   object \n",
      " 3   state          4722 non-null   object \n",
      " 4   order_date     4722 non-null   object \n",
      " 5   total_units    4722 non-null   int64  \n",
      " 6   revenue        4722 non-null   float64\n",
      " 7   product_name   4722 non-null   object \n",
      " 8   category_name  4722 non-null   object \n",
      " 9   brand_name     4722 non-null   object \n",
      " 10  store_name     4722 non-null   object \n",
      " 11  sales_rep      4722 non-null   object \n",
      "dtypes: float64(1), int64(2), object(9)\n",
      "memory usage: 442.8+ KB\n"
     ]
    }
   ],
   "source": [
    "df.info()"
   ]
  },
  {
   "cell_type": "code",
   "execution_count": 33,
   "metadata": {},
   "outputs": [
    {
     "data": {
      "text/plain": [
       "order_id           int64\n",
       "customers         object\n",
       "city              object\n",
       "state             object\n",
       "order_date        object\n",
       "total_units        int64\n",
       "revenue          float64\n",
       "product_name      object\n",
       "category_name     object\n",
       "brand_name        object\n",
       "store_name        object\n",
       "sales_rep         object\n",
       "dtype: object"
      ]
     },
     "execution_count": 33,
     "metadata": {},
     "output_type": "execute_result"
    }
   ],
   "source": [
    "df.dtypes"
   ]
  },
  {
   "cell_type": "code",
   "execution_count": 27,
   "metadata": {},
   "outputs": [
    {
     "data": {
      "text/html": [
       "<div>\n",
       "<style scoped>\n",
       "    .dataframe tbody tr th:only-of-type {\n",
       "        vertical-align: middle;\n",
       "    }\n",
       "\n",
       "    .dataframe tbody tr th {\n",
       "        vertical-align: top;\n",
       "    }\n",
       "\n",
       "    .dataframe thead th {\n",
       "        text-align: right;\n",
       "    }\n",
       "</style>\n",
       "<table border=\"1\" class=\"dataframe\">\n",
       "  <thead>\n",
       "    <tr style=\"text-align: right;\">\n",
       "      <th></th>\n",
       "      <th>order_id</th>\n",
       "      <th>total_units</th>\n",
       "      <th>revenue</th>\n",
       "    </tr>\n",
       "  </thead>\n",
       "  <tbody>\n",
       "    <tr>\n",
       "      <th>count</th>\n",
       "      <td>4722.000000</td>\n",
       "      <td>4722.000000</td>\n",
       "      <td>4722.000000</td>\n",
       "    </tr>\n",
       "    <tr>\n",
       "      <th>mean</th>\n",
       "      <td>821.265354</td>\n",
       "      <td>1.498941</td>\n",
       "      <td>1816.812554</td>\n",
       "    </tr>\n",
       "    <tr>\n",
       "      <th>std</th>\n",
       "      <td>465.152168</td>\n",
       "      <td>0.500052</td>\n",
       "      <td>2228.160984</td>\n",
       "    </tr>\n",
       "    <tr>\n",
       "      <th>min</th>\n",
       "      <td>1.000000</td>\n",
       "      <td>1.000000</td>\n",
       "      <td>89.990000</td>\n",
       "    </tr>\n",
       "    <tr>\n",
       "      <th>25%</th>\n",
       "      <td>423.250000</td>\n",
       "      <td>1.000000</td>\n",
       "      <td>539.980000</td>\n",
       "    </tr>\n",
       "    <tr>\n",
       "      <th>50%</th>\n",
       "      <td>828.500000</td>\n",
       "      <td>1.000000</td>\n",
       "      <td>939.980000</td>\n",
       "    </tr>\n",
       "    <tr>\n",
       "      <th>75%</th>\n",
       "      <td>1226.000000</td>\n",
       "      <td>2.000000</td>\n",
       "      <td>1999.980000</td>\n",
       "    </tr>\n",
       "    <tr>\n",
       "      <th>max</th>\n",
       "      <td>1615.000000</td>\n",
       "      <td>2.000000</td>\n",
       "      <td>23999.980000</td>\n",
       "    </tr>\n",
       "  </tbody>\n",
       "</table>\n",
       "</div>"
      ],
      "text/plain": [
       "          order_id  total_units       revenue\n",
       "count  4722.000000  4722.000000   4722.000000\n",
       "mean    821.265354     1.498941   1816.812554\n",
       "std     465.152168     0.500052   2228.160984\n",
       "min       1.000000     1.000000     89.990000\n",
       "25%     423.250000     1.000000    539.980000\n",
       "50%     828.500000     1.000000    939.980000\n",
       "75%    1226.000000     2.000000   1999.980000\n",
       "max    1615.000000     2.000000  23999.980000"
      ]
     },
     "execution_count": 27,
     "metadata": {},
     "output_type": "execute_result"
    }
   ],
   "source": [
    "# Statistical Summary\n",
    "df.describe()"
   ]
  },
  {
   "cell_type": "markdown",
   "metadata": {
    "id": "Cmf07HWEzbDo"
   },
   "source": [
    "### 3] Data Wrangling (Cleaning & Manipulation)"
   ]
  },
  {
   "cell_type": "markdown",
   "metadata": {
    "id": "SLNiesMTzbDo"
   },
   "source": [
    "##### Are there any missing / duplicated data?"
   ]
  },
  {
   "cell_type": "code",
   "execution_count": 35,
   "metadata": {},
   "outputs": [
    {
     "data": {
      "text/plain": [
       "order_id         0\n",
       "customers        0\n",
       "city             0\n",
       "state            0\n",
       "order_date       0\n",
       "total_units      0\n",
       "revenue          0\n",
       "product_name     0\n",
       "category_name    0\n",
       "brand_name       0\n",
       "store_name       0\n",
       "sales_rep        0\n",
       "dtype: int64"
      ]
     },
     "execution_count": 35,
     "metadata": {},
     "output_type": "execute_result"
    }
   ],
   "source": [
    "df.isnull().sum()"
   ]
  },
  {
   "cell_type": "code",
   "execution_count": 37,
   "metadata": {},
   "outputs": [
    {
     "data": {
      "text/plain": [
       "0"
      ]
     },
     "execution_count": 37,
     "metadata": {},
     "output_type": "execute_result"
    }
   ],
   "source": [
    "df.duplicated().sum()"
   ]
  },
  {
   "cell_type": "raw",
   "metadata": {},
   "source": [
    "#remove null\n",
    "#Replace >> \n",
    "## Numerical>> Mean , Categorical >> Mode\n",
    "data.fillna(....)\n",
    "data.dropna()"
   ]
  },
  {
   "cell_type": "markdown",
   "metadata": {
    "id": "1vPyGDAUzbDp"
   },
   "source": [
    "##### Double-check for the columns names and update any of them if needed"
   ]
  },
  {
   "cell_type": "code",
   "execution_count": 212,
   "metadata": {
    "id": "ZFkdW9XEzbDq",
    "scrolled": true
   },
   "outputs": [
    {
     "data": {
      "text/plain": [
       "Index(['order_id', 'customers', 'city', 'state', 'order_date', 'total_units',\n",
       "       'revenue', 'product_name', 'category_name', 'brand_name', 'store_name',\n",
       "       'sales_rep'],\n",
       "      dtype='object')"
      ]
     },
     "execution_count": 212,
     "metadata": {},
     "output_type": "execute_result"
    }
   ],
   "source": [
    "df.columns"
   ]
  },
  {
   "cell_type": "markdown",
   "metadata": {
    "id": "jkdSl9Y4zbDq"
   },
   "source": [
    "##### Can you convert the City column to UpperCases?"
   ]
  },
  {
   "cell_type": "code",
   "execution_count": 41,
   "metadata": {
    "id": "u--h0s5rzbDr"
   },
   "outputs": [
    {
     "data": {
      "text/plain": [
       "0       PLEASANTON\n",
       "1       PLEASANTON\n",
       "2       PLEASANTON\n",
       "3       PLEASANTON\n",
       "4       PLEASANTON\n",
       "           ...    \n",
       "4717       HOUSTON\n",
       "4718       HOUSTON\n",
       "4719        FORNEY\n",
       "4720        FORNEY\n",
       "4721        FORNEY\n",
       "Name: city, Length: 4722, dtype: object"
      ]
     },
     "execution_count": 41,
     "metadata": {},
     "output_type": "execute_result"
    }
   ],
   "source": [
    "df['city'].str.upper()"
   ]
  },
  {
   "cell_type": "markdown",
   "metadata": {
    "id": "dUhsCRIrzbDr"
   },
   "source": [
    "### 4] Data Analysis & Visualization (EDA & Statistical Analysis)\n",
    "#### Exploratory Data Analysis"
   ]
  },
  {
   "cell_type": "markdown",
   "metadata": {
    "id": "XGxgPDLxzbDr"
   },
   "source": [
    "##### What is the average Revenue?"
   ]
  },
  {
   "cell_type": "code",
   "execution_count": 43,
   "metadata": {},
   "outputs": [
    {
     "data": {
      "text/plain": [
       "Index(['order_id', 'customers', 'city', 'state', 'order_date', 'total_units',\n",
       "       'revenue', 'product_name', 'category_name', 'brand_name', 'store_name',\n",
       "       'sales_rep'],\n",
       "      dtype='object')"
      ]
     },
     "execution_count": 43,
     "metadata": {},
     "output_type": "execute_result"
    }
   ],
   "source": [
    "df.columns"
   ]
  },
  {
   "cell_type": "code",
   "execution_count": 45,
   "metadata": {},
   "outputs": [
    {
     "data": {
      "text/plain": [
       "1816.812554002541"
      ]
     },
     "execution_count": 45,
     "metadata": {},
     "output_type": "execute_result"
    }
   ],
   "source": [
    "df['revenue'].mean()"
   ]
  },
  {
   "cell_type": "markdown",
   "metadata": {
    "id": "cvKtE5P0zbDr"
   },
   "source": [
    "##### What were the highest and lowest Revenue?"
   ]
  },
  {
   "cell_type": "code",
   "execution_count": 47,
   "metadata": {},
   "outputs": [
    {
     "data": {
      "text/plain": [
       "23999.98"
      ]
     },
     "execution_count": 47,
     "metadata": {},
     "output_type": "execute_result"
    }
   ],
   "source": [
    "#Heighest\n",
    "df['revenue'].max()"
   ]
  },
  {
   "cell_type": "code",
   "execution_count": 49,
   "metadata": {
    "id": "jI0QbSrDgenM"
   },
   "outputs": [
    {
     "data": {
      "text/plain": [
       "89.99"
      ]
     },
     "execution_count": 49,
     "metadata": {},
     "output_type": "execute_result"
    }
   ],
   "source": [
    "#Lowest\n",
    "df['revenue'].min()"
   ]
  },
  {
   "cell_type": "markdown",
   "metadata": {
    "id": "CudCgOX6zbDs"
   },
   "source": [
    "##### How many orders have 'Road Bikes'  as a category name ?"
   ]
  },
  {
   "cell_type": "code",
   "execution_count": 162,
   "metadata": {
    "id": "cXOT40uGgf-p"
   },
   "outputs": [
    {
     "data": {
      "text/plain": [
       "category_name\n",
       "Children Bicycles       782\n",
       "Comfort Bicycles        537\n",
       "Cruisers Bicycles      1378\n",
       "Cyclocross Bicycles     256\n",
       "Electric Bikes          212\n",
       "Mountain Bikes         1183\n",
       "Road Bikes              374\n",
       "Name: order_id, dtype: int64"
      ]
     },
     "execution_count": 162,
     "metadata": {},
     "output_type": "execute_result"
    }
   ],
   "source": [
    "y=df.groupby(['category_name'])['order_id'].count() \n",
    "y"
   ]
  },
  {
   "cell_type": "code",
   "execution_count": 219,
   "metadata": {},
   "outputs": [
    {
     "data": {
      "text/plain": [
       "374"
      ]
     },
     "execution_count": 219,
     "metadata": {},
     "output_type": "execute_result"
    }
   ],
   "source": [
    "x=y[\"Road Bikes\"]\n",
    "x"
   ]
  },
  {
   "cell_type": "code",
   "execution_count": 215,
   "metadata": {
    "scrolled": true
   },
   "outputs": [
    {
     "data": {
      "text/plain": [
       "374"
      ]
     },
     "execution_count": 215,
     "metadata": {},
     "output_type": "execute_result"
    }
   ],
   "source": [
    "# Or\n",
    "df.loc[df[\"category_name\"] ==\"Road Bikes\",\"order_id\"].count()"
   ]
  },
  {
   "cell_type": "markdown",
   "metadata": {},
   "source": [
    "##### Display the data which revenue greater than 10000"
   ]
  },
  {
   "cell_type": "code",
   "execution_count": 242,
   "metadata": {},
   "outputs": [
    {
     "data": {
      "text/html": [
       "<div>\n",
       "<style scoped>\n",
       "    .dataframe tbody tr th:only-of-type {\n",
       "        vertical-align: middle;\n",
       "    }\n",
       "\n",
       "    .dataframe tbody tr th {\n",
       "        vertical-align: top;\n",
       "    }\n",
       "\n",
       "    .dataframe thead th {\n",
       "        text-align: right;\n",
       "    }\n",
       "</style>\n",
       "<table border=\"1\" class=\"dataframe\">\n",
       "  <thead>\n",
       "    <tr style=\"text-align: right;\">\n",
       "      <th></th>\n",
       "      <th>order_id</th>\n",
       "      <th>customers</th>\n",
       "      <th>city</th>\n",
       "      <th>state</th>\n",
       "      <th>order_date</th>\n",
       "      <th>total_units</th>\n",
       "      <th>revenue</th>\n",
       "      <th>product_name</th>\n",
       "      <th>category_name</th>\n",
       "      <th>brand_name</th>\n",
       "      <th>store_name</th>\n",
       "      <th>sales_rep</th>\n",
       "    </tr>\n",
       "  </thead>\n",
       "  <tbody>\n",
       "    <tr>\n",
       "      <th>1798</th>\n",
       "      <td>645</td>\n",
       "      <td>Consuela Collier</td>\n",
       "      <td>North Tonawanda</td>\n",
       "      <td>NY</td>\n",
       "      <td>8/1/2017</td>\n",
       "      <td>2</td>\n",
       "      <td>10599.98</td>\n",
       "      <td>Trek Remedy 9.8 - 2017</td>\n",
       "      <td>Mountain Bikes</td>\n",
       "      <td>Trek</td>\n",
       "      <td>Baldwin Bikes</td>\n",
       "      <td>Marcelene Boyer</td>\n",
       "    </tr>\n",
       "    <tr>\n",
       "      <th>1844</th>\n",
       "      <td>660</td>\n",
       "      <td>Ashlee Pena</td>\n",
       "      <td>Whitestone</td>\n",
       "      <td>NY</td>\n",
       "      <td>18/1/2017</td>\n",
       "      <td>2</td>\n",
       "      <td>10599.98</td>\n",
       "      <td>Trek Remedy 9.8 - 2017</td>\n",
       "      <td>Mountain Bikes</td>\n",
       "      <td>Trek</td>\n",
       "      <td>Baldwin Bikes</td>\n",
       "      <td>Venita Daniel</td>\n",
       "    </tr>\n",
       "    <tr>\n",
       "      <th>1888</th>\n",
       "      <td>672</td>\n",
       "      <td>Delmar Wise</td>\n",
       "      <td>Lockport</td>\n",
       "      <td>NY</td>\n",
       "      <td>26/1/2017</td>\n",
       "      <td>2</td>\n",
       "      <td>12999.98</td>\n",
       "      <td>Trek Silque SLR 8 Women's - 2017</td>\n",
       "      <td>Road Bikes</td>\n",
       "      <td>Trek</td>\n",
       "      <td>Baldwin Bikes</td>\n",
       "      <td>Marcelene Boyer</td>\n",
       "    </tr>\n",
       "    <tr>\n",
       "      <th>1928</th>\n",
       "      <td>685</td>\n",
       "      <td>Ayanna Cherry</td>\n",
       "      <td>Smithtown</td>\n",
       "      <td>NY</td>\n",
       "      <td>31/1/2017</td>\n",
       "      <td>2</td>\n",
       "      <td>10999.98</td>\n",
       "      <td>Trek Domane SLR 6 Disc - 2017</td>\n",
       "      <td>Road Bikes</td>\n",
       "      <td>Trek</td>\n",
       "      <td>Baldwin Bikes</td>\n",
       "      <td>Venita Daniel</td>\n",
       "    </tr>\n",
       "    <tr>\n",
       "      <th>1953</th>\n",
       "      <td>692</td>\n",
       "      <td>Kasha Todd</td>\n",
       "      <td>Campbell</td>\n",
       "      <td>CA</td>\n",
       "      <td>5/2/2017</td>\n",
       "      <td>2</td>\n",
       "      <td>10999.98</td>\n",
       "      <td>Trek Domane SLR 6 Disc - 2017</td>\n",
       "      <td>Road Bikes</td>\n",
       "      <td>Trek</td>\n",
       "      <td>Santa Cruz Bikes</td>\n",
       "      <td>Genna Serrano</td>\n",
       "    </tr>\n",
       "    <tr>\n",
       "      <th>2029</th>\n",
       "      <td>717</td>\n",
       "      <td>Tereasa Bird</td>\n",
       "      <td>Ronkonkoma</td>\n",
       "      <td>NY</td>\n",
       "      <td>15/2/2017</td>\n",
       "      <td>2</td>\n",
       "      <td>10999.98</td>\n",
       "      <td>Trek Domane SLR 6 Disc - 2017</td>\n",
       "      <td>Road Bikes</td>\n",
       "      <td>Trek</td>\n",
       "      <td>Baldwin Bikes</td>\n",
       "      <td>Marcelene Boyer</td>\n",
       "    </tr>\n",
       "    <tr>\n",
       "      <th>2083</th>\n",
       "      <td>736</td>\n",
       "      <td>Klara Stanley</td>\n",
       "      <td>Webster</td>\n",
       "      <td>NY</td>\n",
       "      <td>27/2/2017</td>\n",
       "      <td>2</td>\n",
       "      <td>10999.98</td>\n",
       "      <td>Trek Domane SLR 6 Disc - 2017</td>\n",
       "      <td>Road Bikes</td>\n",
       "      <td>Trek</td>\n",
       "      <td>Baldwin Bikes</td>\n",
       "      <td>Venita Daniel</td>\n",
       "    </tr>\n",
       "    <tr>\n",
       "      <th>2100</th>\n",
       "      <td>741</td>\n",
       "      <td>Thalia Dillard</td>\n",
       "      <td>San Angelo</td>\n",
       "      <td>TX</td>\n",
       "      <td>28/2/2017</td>\n",
       "      <td>2</td>\n",
       "      <td>10999.98</td>\n",
       "      <td>Trek Domane SLR 6 Disc - 2017</td>\n",
       "      <td>Road Bikes</td>\n",
       "      <td>Trek</td>\n",
       "      <td>Rowlett Bikes</td>\n",
       "      <td>Kali Vargas</td>\n",
       "    </tr>\n",
       "    <tr>\n",
       "      <th>2140</th>\n",
       "      <td>755</td>\n",
       "      <td>Kimberely Bowen</td>\n",
       "      <td>Troy</td>\n",
       "      <td>NY</td>\n",
       "      <td>6/3/2017</td>\n",
       "      <td>2</td>\n",
       "      <td>10599.98</td>\n",
       "      <td>Trek Fuel EX 9.8 27.5 Plus - 2017</td>\n",
       "      <td>Mountain Bikes</td>\n",
       "      <td>Trek</td>\n",
       "      <td>Baldwin Bikes</td>\n",
       "      <td>Marcelene Boyer</td>\n",
       "    </tr>\n",
       "    <tr>\n",
       "      <th>2227</th>\n",
       "      <td>787</td>\n",
       "      <td>Collene Knox</td>\n",
       "      <td>Corpus Christi</td>\n",
       "      <td>TX</td>\n",
       "      <td>18/3/2017</td>\n",
       "      <td>2</td>\n",
       "      <td>12999.98</td>\n",
       "      <td>Trek Silque SLR 8 Women's - 2017</td>\n",
       "      <td>Road Bikes</td>\n",
       "      <td>Trek</td>\n",
       "      <td>Rowlett Bikes</td>\n",
       "      <td>Layla Terrell</td>\n",
       "    </tr>\n",
       "    <tr>\n",
       "      <th>2283</th>\n",
       "      <td>804</td>\n",
       "      <td>Letitia Franco</td>\n",
       "      <td>Saratoga Springs</td>\n",
       "      <td>NY</td>\n",
       "      <td>29/3/2017</td>\n",
       "      <td>2</td>\n",
       "      <td>11999.98</td>\n",
       "      <td>Trek Silque SLR 7 Women's - 2017</td>\n",
       "      <td>Road Bikes</td>\n",
       "      <td>Trek</td>\n",
       "      <td>Baldwin Bikes</td>\n",
       "      <td>Marcelene Boyer</td>\n",
       "    </tr>\n",
       "    <tr>\n",
       "      <th>2347</th>\n",
       "      <td>823</td>\n",
       "      <td>Gwendolyn Miller</td>\n",
       "      <td>Harlingen</td>\n",
       "      <td>TX</td>\n",
       "      <td>6/4/2017</td>\n",
       "      <td>2</td>\n",
       "      <td>10999.98</td>\n",
       "      <td>Trek Domane SLR 6 Disc - 2017</td>\n",
       "      <td>Road Bikes</td>\n",
       "      <td>Trek</td>\n",
       "      <td>Rowlett Bikes</td>\n",
       "      <td>Kali Vargas</td>\n",
       "    </tr>\n",
       "    <tr>\n",
       "      <th>2533</th>\n",
       "      <td>887</td>\n",
       "      <td>Chantell Bridges</td>\n",
       "      <td>Buffalo</td>\n",
       "      <td>NY</td>\n",
       "      <td>13/5/2017</td>\n",
       "      <td>2</td>\n",
       "      <td>11999.98</td>\n",
       "      <td>Trek Silque SLR 7 Women's - 2017</td>\n",
       "      <td>Road Bikes</td>\n",
       "      <td>Trek</td>\n",
       "      <td>Baldwin Bikes</td>\n",
       "      <td>Marcelene Boyer</td>\n",
       "    </tr>\n",
       "    <tr>\n",
       "      <th>2549</th>\n",
       "      <td>892</td>\n",
       "      <td>Laure Pena</td>\n",
       "      <td>Wappingers Falls</td>\n",
       "      <td>NY</td>\n",
       "      <td>15/5/2017</td>\n",
       "      <td>2</td>\n",
       "      <td>11999.98</td>\n",
       "      <td>Trek Silque SLR 7 Women's - 2017</td>\n",
       "      <td>Road Bikes</td>\n",
       "      <td>Trek</td>\n",
       "      <td>Baldwin Bikes</td>\n",
       "      <td>Venita Daniel</td>\n",
       "    </tr>\n",
       "    <tr>\n",
       "      <th>2581</th>\n",
       "      <td>904</td>\n",
       "      <td>Lorraine Marks</td>\n",
       "      <td>San Carlos</td>\n",
       "      <td>CA</td>\n",
       "      <td>23/5/2017</td>\n",
       "      <td>2</td>\n",
       "      <td>12999.98</td>\n",
       "      <td>Trek Silque SLR 8 Women's - 2017</td>\n",
       "      <td>Road Bikes</td>\n",
       "      <td>Trek</td>\n",
       "      <td>Santa Cruz Bikes</td>\n",
       "      <td>Mireya Copeland</td>\n",
       "    </tr>\n",
       "    <tr>\n",
       "      <th>2653</th>\n",
       "      <td>930</td>\n",
       "      <td>Abram Copeland</td>\n",
       "      <td>Harlingen</td>\n",
       "      <td>TX</td>\n",
       "      <td>5/6/2017</td>\n",
       "      <td>2</td>\n",
       "      <td>10999.98</td>\n",
       "      <td>Trek Domane SLR 6 Disc - 2017</td>\n",
       "      <td>Road Bikes</td>\n",
       "      <td>Trek</td>\n",
       "      <td>Rowlett Bikes</td>\n",
       "      <td>Layla Terrell</td>\n",
       "    </tr>\n",
       "    <tr>\n",
       "      <th>2654</th>\n",
       "      <td>930</td>\n",
       "      <td>Abram Copeland</td>\n",
       "      <td>Harlingen</td>\n",
       "      <td>TX</td>\n",
       "      <td>5/6/2017</td>\n",
       "      <td>2</td>\n",
       "      <td>12999.98</td>\n",
       "      <td>Trek Silque SLR 8 Women's - 2017</td>\n",
       "      <td>Road Bikes</td>\n",
       "      <td>Trek</td>\n",
       "      <td>Rowlett Bikes</td>\n",
       "      <td>Layla Terrell</td>\n",
       "    </tr>\n",
       "    <tr>\n",
       "      <th>2663</th>\n",
       "      <td>934</td>\n",
       "      <td>Corrina Sawyer</td>\n",
       "      <td>Troy</td>\n",
       "      <td>NY</td>\n",
       "      <td>9/6/2017</td>\n",
       "      <td>2</td>\n",
       "      <td>10999.98</td>\n",
       "      <td>Trek Domane SLR 6 Disc - 2017</td>\n",
       "      <td>Road Bikes</td>\n",
       "      <td>Trek</td>\n",
       "      <td>Baldwin Bikes</td>\n",
       "      <td>Venita Daniel</td>\n",
       "    </tr>\n",
       "    <tr>\n",
       "      <th>2676</th>\n",
       "      <td>937</td>\n",
       "      <td>Melanie Hayes</td>\n",
       "      <td>Liverpool</td>\n",
       "      <td>NY</td>\n",
       "      <td>11/6/2017</td>\n",
       "      <td>2</td>\n",
       "      <td>12999.98</td>\n",
       "      <td>Trek Silque SLR 8 Women's - 2017</td>\n",
       "      <td>Road Bikes</td>\n",
       "      <td>Trek</td>\n",
       "      <td>Baldwin Bikes</td>\n",
       "      <td>Venita Daniel</td>\n",
       "    </tr>\n",
       "    <tr>\n",
       "      <th>2701</th>\n",
       "      <td>945</td>\n",
       "      <td>Loreta Johnston</td>\n",
       "      <td>Spring Valley</td>\n",
       "      <td>NY</td>\n",
       "      <td>14/6/2017</td>\n",
       "      <td>2</td>\n",
       "      <td>11999.98</td>\n",
       "      <td>Trek Silque SLR 7 Women's - 2017</td>\n",
       "      <td>Road Bikes</td>\n",
       "      <td>Trek</td>\n",
       "      <td>Baldwin Bikes</td>\n",
       "      <td>Venita Daniel</td>\n",
       "    </tr>\n",
       "    <tr>\n",
       "      <th>2705</th>\n",
       "      <td>946</td>\n",
       "      <td>Andreas Mayer</td>\n",
       "      <td>New Rochelle</td>\n",
       "      <td>NY</td>\n",
       "      <td>14/6/2017</td>\n",
       "      <td>2</td>\n",
       "      <td>10999.98</td>\n",
       "      <td>Trek Domane SLR 6 Disc - 2017</td>\n",
       "      <td>Road Bikes</td>\n",
       "      <td>Trek</td>\n",
       "      <td>Baldwin Bikes</td>\n",
       "      <td>Marcelene Boyer</td>\n",
       "    </tr>\n",
       "    <tr>\n",
       "      <th>2720</th>\n",
       "      <td>951</td>\n",
       "      <td>Tamela Harrell</td>\n",
       "      <td>Central Islip</td>\n",
       "      <td>NY</td>\n",
       "      <td>16/6/2017</td>\n",
       "      <td>2</td>\n",
       "      <td>10599.98</td>\n",
       "      <td>Trek Fuel EX 9.8 27.5 Plus - 2017</td>\n",
       "      <td>Mountain Bikes</td>\n",
       "      <td>Trek</td>\n",
       "      <td>Baldwin Bikes</td>\n",
       "      <td>Venita Daniel</td>\n",
       "    </tr>\n",
       "    <tr>\n",
       "      <th>2752</th>\n",
       "      <td>961</td>\n",
       "      <td>Lizzie Joyner</td>\n",
       "      <td>Coachella</td>\n",
       "      <td>CA</td>\n",
       "      <td>19/6/2017</td>\n",
       "      <td>2</td>\n",
       "      <td>10599.98</td>\n",
       "      <td>Trek Remedy 9.8 - 2017</td>\n",
       "      <td>Mountain Bikes</td>\n",
       "      <td>Trek</td>\n",
       "      <td>Santa Cruz Bikes</td>\n",
       "      <td>Mireya Copeland</td>\n",
       "    </tr>\n",
       "    <tr>\n",
       "      <th>2784</th>\n",
       "      <td>973</td>\n",
       "      <td>Cindi Larson</td>\n",
       "      <td>Howard Beach</td>\n",
       "      <td>NY</td>\n",
       "      <td>24/6/2017</td>\n",
       "      <td>2</td>\n",
       "      <td>10599.98</td>\n",
       "      <td>Trek Remedy 9.8 - 2017</td>\n",
       "      <td>Mountain Bikes</td>\n",
       "      <td>Trek</td>\n",
       "      <td>Baldwin Bikes</td>\n",
       "      <td>Marcelene Boyer</td>\n",
       "    </tr>\n",
       "    <tr>\n",
       "      <th>2830</th>\n",
       "      <td>987</td>\n",
       "      <td>Jeanie Kirkland</td>\n",
       "      <td>Santa Clara</td>\n",
       "      <td>CA</td>\n",
       "      <td>2/7/2017</td>\n",
       "      <td>2</td>\n",
       "      <td>12999.98</td>\n",
       "      <td>Trek Silque SLR 8 Women's - 2017</td>\n",
       "      <td>Road Bikes</td>\n",
       "      <td>Trek</td>\n",
       "      <td>Santa Cruz Bikes</td>\n",
       "      <td>Mireya Copeland</td>\n",
       "    </tr>\n",
       "    <tr>\n",
       "      <th>2884</th>\n",
       "      <td>1003</td>\n",
       "      <td>Marlo Jefferson</td>\n",
       "      <td>Niagara Falls</td>\n",
       "      <td>NY</td>\n",
       "      <td>14/7/2017</td>\n",
       "      <td>2</td>\n",
       "      <td>12999.98</td>\n",
       "      <td>Trek Silque SLR 8 Women's - 2017</td>\n",
       "      <td>Road Bikes</td>\n",
       "      <td>Trek</td>\n",
       "      <td>Baldwin Bikes</td>\n",
       "      <td>Venita Daniel</td>\n",
       "    </tr>\n",
       "    <tr>\n",
       "      <th>2893</th>\n",
       "      <td>1006</td>\n",
       "      <td>Olimpia Mays</td>\n",
       "      <td>Oakland Gardens</td>\n",
       "      <td>NY</td>\n",
       "      <td>15/7/2017</td>\n",
       "      <td>2</td>\n",
       "      <td>10999.98</td>\n",
       "      <td>Trek Domane SLR 6 Disc - 2017</td>\n",
       "      <td>Road Bikes</td>\n",
       "      <td>Trek</td>\n",
       "      <td>Baldwin Bikes</td>\n",
       "      <td>Venita Daniel</td>\n",
       "    </tr>\n",
       "    <tr>\n",
       "      <th>2944</th>\n",
       "      <td>1023</td>\n",
       "      <td>Vashti Rosario</td>\n",
       "      <td>Bronx</td>\n",
       "      <td>NY</td>\n",
       "      <td>23/7/2017</td>\n",
       "      <td>2</td>\n",
       "      <td>10599.98</td>\n",
       "      <td>Trek Fuel EX 9.8 27.5 Plus - 2017</td>\n",
       "      <td>Mountain Bikes</td>\n",
       "      <td>Trek</td>\n",
       "      <td>Baldwin Bikes</td>\n",
       "      <td>Marcelene Boyer</td>\n",
       "    </tr>\n",
       "    <tr>\n",
       "      <th>3046</th>\n",
       "      <td>1055</td>\n",
       "      <td>Cleopatra Tate</td>\n",
       "      <td>East Elmhurst</td>\n",
       "      <td>NY</td>\n",
       "      <td>12/8/2017</td>\n",
       "      <td>2</td>\n",
       "      <td>10599.98</td>\n",
       "      <td>Trek Fuel EX 9.8 27.5 Plus - 2017</td>\n",
       "      <td>Mountain Bikes</td>\n",
       "      <td>Trek</td>\n",
       "      <td>Baldwin Bikes</td>\n",
       "      <td>Marcelene Boyer</td>\n",
       "    </tr>\n",
       "    <tr>\n",
       "      <th>3167</th>\n",
       "      <td>1095</td>\n",
       "      <td>Wynona Douglas</td>\n",
       "      <td>Harlingen</td>\n",
       "      <td>TX</td>\n",
       "      <td>26/8/2017</td>\n",
       "      <td>2</td>\n",
       "      <td>11999.98</td>\n",
       "      <td>Trek Silque SLR 7 Women's - 2017</td>\n",
       "      <td>Road Bikes</td>\n",
       "      <td>Trek</td>\n",
       "      <td>Rowlett Bikes</td>\n",
       "      <td>Layla Terrell</td>\n",
       "    </tr>\n",
       "    <tr>\n",
       "      <th>3192</th>\n",
       "      <td>1105</td>\n",
       "      <td>Margret Barnett</td>\n",
       "      <td>Forney</td>\n",
       "      <td>TX</td>\n",
       "      <td>1/9/2017</td>\n",
       "      <td>2</td>\n",
       "      <td>10999.98</td>\n",
       "      <td>Trek Domane SLR 6 Disc - 2017</td>\n",
       "      <td>Road Bikes</td>\n",
       "      <td>Trek</td>\n",
       "      <td>Rowlett Bikes</td>\n",
       "      <td>Kali Vargas</td>\n",
       "    </tr>\n",
       "    <tr>\n",
       "      <th>3215</th>\n",
       "      <td>1115</td>\n",
       "      <td>Penny Acevedo</td>\n",
       "      <td>Ballston Spa</td>\n",
       "      <td>NY</td>\n",
       "      <td>7/9/2017</td>\n",
       "      <td>2</td>\n",
       "      <td>11999.98</td>\n",
       "      <td>Trek Silque SLR 7 Women's - 2017</td>\n",
       "      <td>Road Bikes</td>\n",
       "      <td>Trek</td>\n",
       "      <td>Baldwin Bikes</td>\n",
       "      <td>Marcelene Boyer</td>\n",
       "    </tr>\n",
       "    <tr>\n",
       "      <th>3219</th>\n",
       "      <td>1117</td>\n",
       "      <td>Somer Jordan</td>\n",
       "      <td>Huntington Station</td>\n",
       "      <td>NY</td>\n",
       "      <td>8/9/2017</td>\n",
       "      <td>2</td>\n",
       "      <td>12999.98</td>\n",
       "      <td>Trek Silque SLR 8 Women's - 2017</td>\n",
       "      <td>Road Bikes</td>\n",
       "      <td>Trek</td>\n",
       "      <td>Baldwin Bikes</td>\n",
       "      <td>Marcelene Boyer</td>\n",
       "    </tr>\n",
       "    <tr>\n",
       "      <th>3221</th>\n",
       "      <td>1118</td>\n",
       "      <td>Adena Blake</td>\n",
       "      <td>Ballston Spa</td>\n",
       "      <td>NY</td>\n",
       "      <td>8/9/2017</td>\n",
       "      <td>2</td>\n",
       "      <td>10599.98</td>\n",
       "      <td>Trek Remedy 9.8 - 2017</td>\n",
       "      <td>Mountain Bikes</td>\n",
       "      <td>Trek</td>\n",
       "      <td>Baldwin Bikes</td>\n",
       "      <td>Marcelene Boyer</td>\n",
       "    </tr>\n",
       "    <tr>\n",
       "      <th>3380</th>\n",
       "      <td>1170</td>\n",
       "      <td>Alejandro Haney</td>\n",
       "      <td>Wantagh</td>\n",
       "      <td>NY</td>\n",
       "      <td>5/10/2017</td>\n",
       "      <td>2</td>\n",
       "      <td>10599.98</td>\n",
       "      <td>Trek Remedy 9.8 - 2017</td>\n",
       "      <td>Mountain Bikes</td>\n",
       "      <td>Trek</td>\n",
       "      <td>Baldwin Bikes</td>\n",
       "      <td>Marcelene Boyer</td>\n",
       "    </tr>\n",
       "    <tr>\n",
       "      <th>3525</th>\n",
       "      <td>1220</td>\n",
       "      <td>Bernardina Cooper</td>\n",
       "      <td>Whitestone</td>\n",
       "      <td>NY</td>\n",
       "      <td>31/10/2017</td>\n",
       "      <td>2</td>\n",
       "      <td>10599.98</td>\n",
       "      <td>Trek Remedy 9.8 - 2017</td>\n",
       "      <td>Mountain Bikes</td>\n",
       "      <td>Trek</td>\n",
       "      <td>Baldwin Bikes</td>\n",
       "      <td>Marcelene Boyer</td>\n",
       "    </tr>\n",
       "    <tr>\n",
       "      <th>3566</th>\n",
       "      <td>1234</td>\n",
       "      <td>Lizzette Stein</td>\n",
       "      <td>Orchard Park</td>\n",
       "      <td>NY</td>\n",
       "      <td>7/11/2017</td>\n",
       "      <td>2</td>\n",
       "      <td>10999.98</td>\n",
       "      <td>Trek Domane SLR 6 Disc - 2017</td>\n",
       "      <td>Road Bikes</td>\n",
       "      <td>Trek</td>\n",
       "      <td>Baldwin Bikes</td>\n",
       "      <td>Marcelene Boyer</td>\n",
       "    </tr>\n",
       "    <tr>\n",
       "      <th>3633</th>\n",
       "      <td>1255</td>\n",
       "      <td>Yan Trevino</td>\n",
       "      <td>Uniondale</td>\n",
       "      <td>NY</td>\n",
       "      <td>19/11/2017</td>\n",
       "      <td>2</td>\n",
       "      <td>10599.98</td>\n",
       "      <td>Trek Fuel EX 9.8 27.5 Plus - 2017</td>\n",
       "      <td>Mountain Bikes</td>\n",
       "      <td>Trek</td>\n",
       "      <td>Baldwin Bikes</td>\n",
       "      <td>Marcelene Boyer</td>\n",
       "    </tr>\n",
       "    <tr>\n",
       "      <th>3654</th>\n",
       "      <td>1262</td>\n",
       "      <td>Terra Pickett</td>\n",
       "      <td>Amsterdam</td>\n",
       "      <td>NY</td>\n",
       "      <td>23/11/2017</td>\n",
       "      <td>2</td>\n",
       "      <td>10599.98</td>\n",
       "      <td>Trek Fuel EX 9.8 27.5 Plus - 2017</td>\n",
       "      <td>Mountain Bikes</td>\n",
       "      <td>Trek</td>\n",
       "      <td>Baldwin Bikes</td>\n",
       "      <td>Marcelene Boyer</td>\n",
       "    </tr>\n",
       "    <tr>\n",
       "      <th>3681</th>\n",
       "      <td>1271</td>\n",
       "      <td>Alina Mcleod</td>\n",
       "      <td>Patchogue</td>\n",
       "      <td>NY</td>\n",
       "      <td>27/11/2017</td>\n",
       "      <td>2</td>\n",
       "      <td>11999.98</td>\n",
       "      <td>Trek Silque SLR 7 Women's - 2017</td>\n",
       "      <td>Road Bikes</td>\n",
       "      <td>Trek</td>\n",
       "      <td>Baldwin Bikes</td>\n",
       "      <td>Marcelene Boyer</td>\n",
       "    </tr>\n",
       "    <tr>\n",
       "      <th>3699</th>\n",
       "      <td>1277</td>\n",
       "      <td>Danielle Bond</td>\n",
       "      <td>Patchogue</td>\n",
       "      <td>NY</td>\n",
       "      <td>1/12/2017</td>\n",
       "      <td>2</td>\n",
       "      <td>10999.98</td>\n",
       "      <td>Trek Domane SLR 6 Disc - 2017</td>\n",
       "      <td>Road Bikes</td>\n",
       "      <td>Trek</td>\n",
       "      <td>Baldwin Bikes</td>\n",
       "      <td>Marcelene Boyer</td>\n",
       "    </tr>\n",
       "    <tr>\n",
       "      <th>3712</th>\n",
       "      <td>1282</td>\n",
       "      <td>Aron Wiggins</td>\n",
       "      <td>Oceanside</td>\n",
       "      <td>NY</td>\n",
       "      <td>3/12/2017</td>\n",
       "      <td>2</td>\n",
       "      <td>11999.98</td>\n",
       "      <td>Trek Silque SLR 7 Women's - 2017</td>\n",
       "      <td>Road Bikes</td>\n",
       "      <td>Trek</td>\n",
       "      <td>Baldwin Bikes</td>\n",
       "      <td>Marcelene Boyer</td>\n",
       "    </tr>\n",
       "    <tr>\n",
       "      <th>3758</th>\n",
       "      <td>1297</td>\n",
       "      <td>Shae Hickman</td>\n",
       "      <td>Floral Park</td>\n",
       "      <td>NY</td>\n",
       "      <td>14/12/2017</td>\n",
       "      <td>2</td>\n",
       "      <td>12999.98</td>\n",
       "      <td>Trek Silque SLR 8 Women's - 2017</td>\n",
       "      <td>Road Bikes</td>\n",
       "      <td>Trek</td>\n",
       "      <td>Baldwin Bikes</td>\n",
       "      <td>Marcelene Boyer</td>\n",
       "    </tr>\n",
       "    <tr>\n",
       "      <th>3772</th>\n",
       "      <td>1302</td>\n",
       "      <td>Merideth Preston</td>\n",
       "      <td>Poughkeepsie</td>\n",
       "      <td>NY</td>\n",
       "      <td>16/12/2017</td>\n",
       "      <td>2</td>\n",
       "      <td>10999.98</td>\n",
       "      <td>Trek Domane SLR 6 Disc - 2017</td>\n",
       "      <td>Road Bikes</td>\n",
       "      <td>Trek</td>\n",
       "      <td>Baldwin Bikes</td>\n",
       "      <td>Venita Daniel</td>\n",
       "    </tr>\n",
       "    <tr>\n",
       "      <th>3897</th>\n",
       "      <td>1338</td>\n",
       "      <td>Hae Ramirez</td>\n",
       "      <td>Baldwinsville</td>\n",
       "      <td>NY</td>\n",
       "      <td>10/1/2018</td>\n",
       "      <td>2</td>\n",
       "      <td>12999.98</td>\n",
       "      <td>Trek Emonda SLR 8 - 2018</td>\n",
       "      <td>Road Bikes</td>\n",
       "      <td>Trek</td>\n",
       "      <td>Baldwin Bikes</td>\n",
       "      <td>Marcelene Boyer</td>\n",
       "    </tr>\n",
       "    <tr>\n",
       "      <th>3905</th>\n",
       "      <td>1341</td>\n",
       "      <td>Todd Waters</td>\n",
       "      <td>Bay Shore</td>\n",
       "      <td>NY</td>\n",
       "      <td>12/1/2018</td>\n",
       "      <td>2</td>\n",
       "      <td>10999.98</td>\n",
       "      <td>Trek Domane SLR 6 Disc - 2017</td>\n",
       "      <td>Road Bikes</td>\n",
       "      <td>Trek</td>\n",
       "      <td>Baldwin Bikes</td>\n",
       "      <td>Venita Daniel</td>\n",
       "    </tr>\n",
       "    <tr>\n",
       "      <th>3927</th>\n",
       "      <td>1347</td>\n",
       "      <td>Muriel Juarez</td>\n",
       "      <td>Palos Verdes Peninsula</td>\n",
       "      <td>CA</td>\n",
       "      <td>15/1/2018</td>\n",
       "      <td>2</td>\n",
       "      <td>10599.98</td>\n",
       "      <td>Trek Fuel EX 9.8 27.5 Plus - 2017</td>\n",
       "      <td>Mountain Bikes</td>\n",
       "      <td>Trek</td>\n",
       "      <td>Santa Cruz Bikes</td>\n",
       "      <td>Mireya Copeland</td>\n",
       "    </tr>\n",
       "    <tr>\n",
       "      <th>3977</th>\n",
       "      <td>1364</td>\n",
       "      <td>Shena Carter</td>\n",
       "      <td>Howard Beach</td>\n",
       "      <td>NY</td>\n",
       "      <td>25/1/2018</td>\n",
       "      <td>2</td>\n",
       "      <td>23999.98</td>\n",
       "      <td>Trek Domane SLR 9 Disc - 2018</td>\n",
       "      <td>Road Bikes</td>\n",
       "      <td>Trek</td>\n",
       "      <td>Baldwin Bikes</td>\n",
       "      <td>Marcelene Boyer</td>\n",
       "    </tr>\n",
       "    <tr>\n",
       "      <th>4059</th>\n",
       "      <td>1393</td>\n",
       "      <td>Tena Huber</td>\n",
       "      <td>Newburgh</td>\n",
       "      <td>NY</td>\n",
       "      <td>14/2/2018</td>\n",
       "      <td>2</td>\n",
       "      <td>10599.98</td>\n",
       "      <td>Trek Remedy 9.8 - 2017</td>\n",
       "      <td>Mountain Bikes</td>\n",
       "      <td>Trek</td>\n",
       "      <td>Baldwin Bikes</td>\n",
       "      <td>Venita Daniel</td>\n",
       "    </tr>\n",
       "    <tr>\n",
       "      <th>4262</th>\n",
       "      <td>1463</td>\n",
       "      <td>Dorothea Chang</td>\n",
       "      <td>Astoria</td>\n",
       "      <td>NY</td>\n",
       "      <td>23/3/2018</td>\n",
       "      <td>2</td>\n",
       "      <td>12999.98</td>\n",
       "      <td>Trek Silque SLR 8 Women's - 2017</td>\n",
       "      <td>Road Bikes</td>\n",
       "      <td>Trek</td>\n",
       "      <td>Baldwin Bikes</td>\n",
       "      <td>Venita Daniel</td>\n",
       "    </tr>\n",
       "    <tr>\n",
       "      <th>4277</th>\n",
       "      <td>1468</td>\n",
       "      <td>Tameka Fisher</td>\n",
       "      <td>Redondo Beach</td>\n",
       "      <td>CA</td>\n",
       "      <td>27/3/2018</td>\n",
       "      <td>2</td>\n",
       "      <td>11999.98</td>\n",
       "      <td>Trek Silque SLR 7 Women's - 2017</td>\n",
       "      <td>Road Bikes</td>\n",
       "      <td>Trek</td>\n",
       "      <td>Santa Cruz Bikes</td>\n",
       "      <td>Mireya Copeland</td>\n",
       "    </tr>\n",
       "    <tr>\n",
       "      <th>4386</th>\n",
       "      <td>1505</td>\n",
       "      <td>Adelle Larsen</td>\n",
       "      <td>East Northport</td>\n",
       "      <td>NY</td>\n",
       "      <td>8/4/2018</td>\n",
       "      <td>2</td>\n",
       "      <td>10599.98</td>\n",
       "      <td>Trek Fuel EX 9.8 27.5 Plus - 2017</td>\n",
       "      <td>Mountain Bikes</td>\n",
       "      <td>Trek</td>\n",
       "      <td>Baldwin Bikes</td>\n",
       "      <td>Venita Daniel</td>\n",
       "    </tr>\n",
       "    <tr>\n",
       "      <th>4389</th>\n",
       "      <td>1506</td>\n",
       "      <td>Abby Gamble</td>\n",
       "      <td>Amityville</td>\n",
       "      <td>NY</td>\n",
       "      <td>8/4/2018</td>\n",
       "      <td>2</td>\n",
       "      <td>14999.98</td>\n",
       "      <td>Trek Domane SLR 8 Disc - 2018</td>\n",
       "      <td>Road Bikes</td>\n",
       "      <td>Trek</td>\n",
       "      <td>Baldwin Bikes</td>\n",
       "      <td>Venita Daniel</td>\n",
       "    </tr>\n",
       "    <tr>\n",
       "      <th>4464</th>\n",
       "      <td>1529</td>\n",
       "      <td>Cleotilde Booth</td>\n",
       "      <td>Sugar Land</td>\n",
       "      <td>TX</td>\n",
       "      <td>12/4/2018</td>\n",
       "      <td>2</td>\n",
       "      <td>11999.98</td>\n",
       "      <td>Trek Silque SLR 7 Women's - 2017</td>\n",
       "      <td>Road Bikes</td>\n",
       "      <td>Trek</td>\n",
       "      <td>Rowlett Bikes</td>\n",
       "      <td>Kali Vargas</td>\n",
       "    </tr>\n",
       "    <tr>\n",
       "      <th>4495</th>\n",
       "      <td>1540</td>\n",
       "      <td>Hedwig Paul</td>\n",
       "      <td>Apple Valley</td>\n",
       "      <td>CA</td>\n",
       "      <td>16/4/2018</td>\n",
       "      <td>2</td>\n",
       "      <td>10999.98</td>\n",
       "      <td>Trek Domane SLR 6 Disc - 2018</td>\n",
       "      <td>Road Bikes</td>\n",
       "      <td>Trek</td>\n",
       "      <td>Santa Cruz Bikes</td>\n",
       "      <td>Mireya Copeland</td>\n",
       "    </tr>\n",
       "    <tr>\n",
       "      <th>4498</th>\n",
       "      <td>1541</td>\n",
       "      <td>Pamelia Newman</td>\n",
       "      <td>Monroe</td>\n",
       "      <td>NY</td>\n",
       "      <td>16/4/2018</td>\n",
       "      <td>2</td>\n",
       "      <td>23999.98</td>\n",
       "      <td>Trek Domane SLR 9 Disc - 2018</td>\n",
       "      <td>Road Bikes</td>\n",
       "      <td>Trek</td>\n",
       "      <td>Baldwin Bikes</td>\n",
       "      <td>Venita Daniel</td>\n",
       "    </tr>\n",
       "    <tr>\n",
       "      <th>4583</th>\n",
       "      <td>1570</td>\n",
       "      <td>Fran Yang</td>\n",
       "      <td>Utica</td>\n",
       "      <td>NY</td>\n",
       "      <td>22/4/2018</td>\n",
       "      <td>1</td>\n",
       "      <td>11999.99</td>\n",
       "      <td>Trek Domane SLR 9 Disc - 2018</td>\n",
       "      <td>Road Bikes</td>\n",
       "      <td>Trek</td>\n",
       "      <td>Baldwin Bikes</td>\n",
       "      <td>Venita Daniel</td>\n",
       "    </tr>\n",
       "    <tr>\n",
       "      <th>4664</th>\n",
       "      <td>1593</td>\n",
       "      <td>Genoveva Baldwin</td>\n",
       "      <td>Port Washington</td>\n",
       "      <td>NY</td>\n",
       "      <td>27/4/2018</td>\n",
       "      <td>2</td>\n",
       "      <td>12999.98</td>\n",
       "      <td>Trek Emonda SLR 8 - 2018</td>\n",
       "      <td>Road Bikes</td>\n",
       "      <td>Trek</td>\n",
       "      <td>Baldwin Bikes</td>\n",
       "      <td>Marcelene Boyer</td>\n",
       "    </tr>\n",
       "  </tbody>\n",
       "</table>\n",
       "</div>"
      ],
      "text/plain": [
       "      order_id          customers                    city state  order_date  \\\n",
       "1798       645   Consuela Collier         North Tonawanda    NY    8/1/2017   \n",
       "1844       660        Ashlee Pena              Whitestone    NY   18/1/2017   \n",
       "1888       672        Delmar Wise                Lockport    NY   26/1/2017   \n",
       "1928       685      Ayanna Cherry               Smithtown    NY   31/1/2017   \n",
       "1953       692         Kasha Todd                Campbell    CA    5/2/2017   \n",
       "2029       717       Tereasa Bird              Ronkonkoma    NY   15/2/2017   \n",
       "2083       736      Klara Stanley                 Webster    NY   27/2/2017   \n",
       "2100       741     Thalia Dillard              San Angelo    TX   28/2/2017   \n",
       "2140       755    Kimberely Bowen                    Troy    NY    6/3/2017   \n",
       "2227       787       Collene Knox          Corpus Christi    TX   18/3/2017   \n",
       "2283       804     Letitia Franco        Saratoga Springs    NY   29/3/2017   \n",
       "2347       823   Gwendolyn Miller               Harlingen    TX    6/4/2017   \n",
       "2533       887   Chantell Bridges                 Buffalo    NY   13/5/2017   \n",
       "2549       892         Laure Pena        Wappingers Falls    NY   15/5/2017   \n",
       "2581       904     Lorraine Marks              San Carlos    CA   23/5/2017   \n",
       "2653       930     Abram Copeland               Harlingen    TX    5/6/2017   \n",
       "2654       930     Abram Copeland               Harlingen    TX    5/6/2017   \n",
       "2663       934     Corrina Sawyer                    Troy    NY    9/6/2017   \n",
       "2676       937      Melanie Hayes               Liverpool    NY   11/6/2017   \n",
       "2701       945    Loreta Johnston           Spring Valley    NY   14/6/2017   \n",
       "2705       946      Andreas Mayer            New Rochelle    NY   14/6/2017   \n",
       "2720       951     Tamela Harrell           Central Islip    NY   16/6/2017   \n",
       "2752       961      Lizzie Joyner               Coachella    CA   19/6/2017   \n",
       "2784       973       Cindi Larson            Howard Beach    NY   24/6/2017   \n",
       "2830       987    Jeanie Kirkland             Santa Clara    CA    2/7/2017   \n",
       "2884      1003    Marlo Jefferson           Niagara Falls    NY   14/7/2017   \n",
       "2893      1006       Olimpia Mays         Oakland Gardens    NY   15/7/2017   \n",
       "2944      1023     Vashti Rosario                   Bronx    NY   23/7/2017   \n",
       "3046      1055     Cleopatra Tate           East Elmhurst    NY   12/8/2017   \n",
       "3167      1095     Wynona Douglas               Harlingen    TX   26/8/2017   \n",
       "3192      1105    Margret Barnett                  Forney    TX    1/9/2017   \n",
       "3215      1115      Penny Acevedo            Ballston Spa    NY    7/9/2017   \n",
       "3219      1117       Somer Jordan      Huntington Station    NY    8/9/2017   \n",
       "3221      1118        Adena Blake            Ballston Spa    NY    8/9/2017   \n",
       "3380      1170    Alejandro Haney                 Wantagh    NY   5/10/2017   \n",
       "3525      1220  Bernardina Cooper              Whitestone    NY  31/10/2017   \n",
       "3566      1234     Lizzette Stein            Orchard Park    NY   7/11/2017   \n",
       "3633      1255        Yan Trevino               Uniondale    NY  19/11/2017   \n",
       "3654      1262      Terra Pickett               Amsterdam    NY  23/11/2017   \n",
       "3681      1271       Alina Mcleod               Patchogue    NY  27/11/2017   \n",
       "3699      1277      Danielle Bond               Patchogue    NY   1/12/2017   \n",
       "3712      1282       Aron Wiggins               Oceanside    NY   3/12/2017   \n",
       "3758      1297       Shae Hickman             Floral Park    NY  14/12/2017   \n",
       "3772      1302   Merideth Preston            Poughkeepsie    NY  16/12/2017   \n",
       "3897      1338        Hae Ramirez           Baldwinsville    NY   10/1/2018   \n",
       "3905      1341        Todd Waters               Bay Shore    NY   12/1/2018   \n",
       "3927      1347      Muriel Juarez  Palos Verdes Peninsula    CA   15/1/2018   \n",
       "3977      1364       Shena Carter            Howard Beach    NY   25/1/2018   \n",
       "4059      1393         Tena Huber                Newburgh    NY   14/2/2018   \n",
       "4262      1463     Dorothea Chang                 Astoria    NY   23/3/2018   \n",
       "4277      1468      Tameka Fisher           Redondo Beach    CA   27/3/2018   \n",
       "4386      1505      Adelle Larsen          East Northport    NY    8/4/2018   \n",
       "4389      1506        Abby Gamble              Amityville    NY    8/4/2018   \n",
       "4464      1529    Cleotilde Booth              Sugar Land    TX   12/4/2018   \n",
       "4495      1540        Hedwig Paul            Apple Valley    CA   16/4/2018   \n",
       "4498      1541     Pamelia Newman                  Monroe    NY   16/4/2018   \n",
       "4583      1570          Fran Yang                   Utica    NY   22/4/2018   \n",
       "4664      1593   Genoveva Baldwin         Port Washington    NY   27/4/2018   \n",
       "\n",
       "      total_units   revenue                       product_name  \\\n",
       "1798            2  10599.98             Trek Remedy 9.8 - 2017   \n",
       "1844            2  10599.98             Trek Remedy 9.8 - 2017   \n",
       "1888            2  12999.98   Trek Silque SLR 8 Women's - 2017   \n",
       "1928            2  10999.98      Trek Domane SLR 6 Disc - 2017   \n",
       "1953            2  10999.98      Trek Domane SLR 6 Disc - 2017   \n",
       "2029            2  10999.98      Trek Domane SLR 6 Disc - 2017   \n",
       "2083            2  10999.98      Trek Domane SLR 6 Disc - 2017   \n",
       "2100            2  10999.98      Trek Domane SLR 6 Disc - 2017   \n",
       "2140            2  10599.98  Trek Fuel EX 9.8 27.5 Plus - 2017   \n",
       "2227            2  12999.98   Trek Silque SLR 8 Women's - 2017   \n",
       "2283            2  11999.98   Trek Silque SLR 7 Women's - 2017   \n",
       "2347            2  10999.98      Trek Domane SLR 6 Disc - 2017   \n",
       "2533            2  11999.98   Trek Silque SLR 7 Women's - 2017   \n",
       "2549            2  11999.98   Trek Silque SLR 7 Women's - 2017   \n",
       "2581            2  12999.98   Trek Silque SLR 8 Women's - 2017   \n",
       "2653            2  10999.98      Trek Domane SLR 6 Disc - 2017   \n",
       "2654            2  12999.98   Trek Silque SLR 8 Women's - 2017   \n",
       "2663            2  10999.98      Trek Domane SLR 6 Disc - 2017   \n",
       "2676            2  12999.98   Trek Silque SLR 8 Women's - 2017   \n",
       "2701            2  11999.98   Trek Silque SLR 7 Women's - 2017   \n",
       "2705            2  10999.98      Trek Domane SLR 6 Disc - 2017   \n",
       "2720            2  10599.98  Trek Fuel EX 9.8 27.5 Plus - 2017   \n",
       "2752            2  10599.98             Trek Remedy 9.8 - 2017   \n",
       "2784            2  10599.98             Trek Remedy 9.8 - 2017   \n",
       "2830            2  12999.98   Trek Silque SLR 8 Women's - 2017   \n",
       "2884            2  12999.98   Trek Silque SLR 8 Women's - 2017   \n",
       "2893            2  10999.98      Trek Domane SLR 6 Disc - 2017   \n",
       "2944            2  10599.98  Trek Fuel EX 9.8 27.5 Plus - 2017   \n",
       "3046            2  10599.98  Trek Fuel EX 9.8 27.5 Plus - 2017   \n",
       "3167            2  11999.98   Trek Silque SLR 7 Women's - 2017   \n",
       "3192            2  10999.98      Trek Domane SLR 6 Disc - 2017   \n",
       "3215            2  11999.98   Trek Silque SLR 7 Women's - 2017   \n",
       "3219            2  12999.98   Trek Silque SLR 8 Women's - 2017   \n",
       "3221            2  10599.98             Trek Remedy 9.8 - 2017   \n",
       "3380            2  10599.98             Trek Remedy 9.8 - 2017   \n",
       "3525            2  10599.98             Trek Remedy 9.8 - 2017   \n",
       "3566            2  10999.98      Trek Domane SLR 6 Disc - 2017   \n",
       "3633            2  10599.98  Trek Fuel EX 9.8 27.5 Plus - 2017   \n",
       "3654            2  10599.98  Trek Fuel EX 9.8 27.5 Plus - 2017   \n",
       "3681            2  11999.98   Trek Silque SLR 7 Women's - 2017   \n",
       "3699            2  10999.98      Trek Domane SLR 6 Disc - 2017   \n",
       "3712            2  11999.98   Trek Silque SLR 7 Women's - 2017   \n",
       "3758            2  12999.98   Trek Silque SLR 8 Women's - 2017   \n",
       "3772            2  10999.98      Trek Domane SLR 6 Disc - 2017   \n",
       "3897            2  12999.98           Trek Emonda SLR 8 - 2018   \n",
       "3905            2  10999.98      Trek Domane SLR 6 Disc - 2017   \n",
       "3927            2  10599.98  Trek Fuel EX 9.8 27.5 Plus - 2017   \n",
       "3977            2  23999.98      Trek Domane SLR 9 Disc - 2018   \n",
       "4059            2  10599.98             Trek Remedy 9.8 - 2017   \n",
       "4262            2  12999.98   Trek Silque SLR 8 Women's - 2017   \n",
       "4277            2  11999.98   Trek Silque SLR 7 Women's - 2017   \n",
       "4386            2  10599.98  Trek Fuel EX 9.8 27.5 Plus - 2017   \n",
       "4389            2  14999.98      Trek Domane SLR 8 Disc - 2018   \n",
       "4464            2  11999.98   Trek Silque SLR 7 Women's - 2017   \n",
       "4495            2  10999.98      Trek Domane SLR 6 Disc - 2018   \n",
       "4498            2  23999.98      Trek Domane SLR 9 Disc - 2018   \n",
       "4583            1  11999.99      Trek Domane SLR 9 Disc - 2018   \n",
       "4664            2  12999.98           Trek Emonda SLR 8 - 2018   \n",
       "\n",
       "       category_name brand_name        store_name        sales_rep  \n",
       "1798  Mountain Bikes       Trek     Baldwin Bikes  Marcelene Boyer  \n",
       "1844  Mountain Bikes       Trek     Baldwin Bikes    Venita Daniel  \n",
       "1888      Road Bikes       Trek     Baldwin Bikes  Marcelene Boyer  \n",
       "1928      Road Bikes       Trek     Baldwin Bikes    Venita Daniel  \n",
       "1953      Road Bikes       Trek  Santa Cruz Bikes    Genna Serrano  \n",
       "2029      Road Bikes       Trek     Baldwin Bikes  Marcelene Boyer  \n",
       "2083      Road Bikes       Trek     Baldwin Bikes    Venita Daniel  \n",
       "2100      Road Bikes       Trek     Rowlett Bikes      Kali Vargas  \n",
       "2140  Mountain Bikes       Trek     Baldwin Bikes  Marcelene Boyer  \n",
       "2227      Road Bikes       Trek     Rowlett Bikes    Layla Terrell  \n",
       "2283      Road Bikes       Trek     Baldwin Bikes  Marcelene Boyer  \n",
       "2347      Road Bikes       Trek     Rowlett Bikes      Kali Vargas  \n",
       "2533      Road Bikes       Trek     Baldwin Bikes  Marcelene Boyer  \n",
       "2549      Road Bikes       Trek     Baldwin Bikes    Venita Daniel  \n",
       "2581      Road Bikes       Trek  Santa Cruz Bikes  Mireya Copeland  \n",
       "2653      Road Bikes       Trek     Rowlett Bikes    Layla Terrell  \n",
       "2654      Road Bikes       Trek     Rowlett Bikes    Layla Terrell  \n",
       "2663      Road Bikes       Trek     Baldwin Bikes    Venita Daniel  \n",
       "2676      Road Bikes       Trek     Baldwin Bikes    Venita Daniel  \n",
       "2701      Road Bikes       Trek     Baldwin Bikes    Venita Daniel  \n",
       "2705      Road Bikes       Trek     Baldwin Bikes  Marcelene Boyer  \n",
       "2720  Mountain Bikes       Trek     Baldwin Bikes    Venita Daniel  \n",
       "2752  Mountain Bikes       Trek  Santa Cruz Bikes  Mireya Copeland  \n",
       "2784  Mountain Bikes       Trek     Baldwin Bikes  Marcelene Boyer  \n",
       "2830      Road Bikes       Trek  Santa Cruz Bikes  Mireya Copeland  \n",
       "2884      Road Bikes       Trek     Baldwin Bikes    Venita Daniel  \n",
       "2893      Road Bikes       Trek     Baldwin Bikes    Venita Daniel  \n",
       "2944  Mountain Bikes       Trek     Baldwin Bikes  Marcelene Boyer  \n",
       "3046  Mountain Bikes       Trek     Baldwin Bikes  Marcelene Boyer  \n",
       "3167      Road Bikes       Trek     Rowlett Bikes    Layla Terrell  \n",
       "3192      Road Bikes       Trek     Rowlett Bikes      Kali Vargas  \n",
       "3215      Road Bikes       Trek     Baldwin Bikes  Marcelene Boyer  \n",
       "3219      Road Bikes       Trek     Baldwin Bikes  Marcelene Boyer  \n",
       "3221  Mountain Bikes       Trek     Baldwin Bikes  Marcelene Boyer  \n",
       "3380  Mountain Bikes       Trek     Baldwin Bikes  Marcelene Boyer  \n",
       "3525  Mountain Bikes       Trek     Baldwin Bikes  Marcelene Boyer  \n",
       "3566      Road Bikes       Trek     Baldwin Bikes  Marcelene Boyer  \n",
       "3633  Mountain Bikes       Trek     Baldwin Bikes  Marcelene Boyer  \n",
       "3654  Mountain Bikes       Trek     Baldwin Bikes  Marcelene Boyer  \n",
       "3681      Road Bikes       Trek     Baldwin Bikes  Marcelene Boyer  \n",
       "3699      Road Bikes       Trek     Baldwin Bikes  Marcelene Boyer  \n",
       "3712      Road Bikes       Trek     Baldwin Bikes  Marcelene Boyer  \n",
       "3758      Road Bikes       Trek     Baldwin Bikes  Marcelene Boyer  \n",
       "3772      Road Bikes       Trek     Baldwin Bikes    Venita Daniel  \n",
       "3897      Road Bikes       Trek     Baldwin Bikes  Marcelene Boyer  \n",
       "3905      Road Bikes       Trek     Baldwin Bikes    Venita Daniel  \n",
       "3927  Mountain Bikes       Trek  Santa Cruz Bikes  Mireya Copeland  \n",
       "3977      Road Bikes       Trek     Baldwin Bikes  Marcelene Boyer  \n",
       "4059  Mountain Bikes       Trek     Baldwin Bikes    Venita Daniel  \n",
       "4262      Road Bikes       Trek     Baldwin Bikes    Venita Daniel  \n",
       "4277      Road Bikes       Trek  Santa Cruz Bikes  Mireya Copeland  \n",
       "4386  Mountain Bikes       Trek     Baldwin Bikes    Venita Daniel  \n",
       "4389      Road Bikes       Trek     Baldwin Bikes    Venita Daniel  \n",
       "4464      Road Bikes       Trek     Rowlett Bikes      Kali Vargas  \n",
       "4495      Road Bikes       Trek  Santa Cruz Bikes  Mireya Copeland  \n",
       "4498      Road Bikes       Trek     Baldwin Bikes    Venita Daniel  \n",
       "4583      Road Bikes       Trek     Baldwin Bikes    Venita Daniel  \n",
       "4664      Road Bikes       Trek     Baldwin Bikes  Marcelene Boyer  "
      ]
     },
     "execution_count": 242,
     "metadata": {},
     "output_type": "execute_result"
    }
   ],
   "source": [
    "df[df.revenue >10000]"
   ]
  },
  {
   "cell_type": "markdown",
   "metadata": {},
   "source": [
    "##### what is the total revenue for each Brand ?"
   ]
  },
  {
   "cell_type": "code",
   "execution_count": 88,
   "metadata": {},
   "outputs": [
    {
     "data": {
      "text/plain": [
       "brand_name\n",
       "Electra         1344143.79\n",
       "Haro             207096.69\n",
       "Heller           193798.71\n",
       "Pure Cycles      166164.00\n",
       "Ritchey           88498.82\n",
       "Strider            4849.75\n",
       "Sun Bicycles     381919.69\n",
       "Surly           1063135.82\n",
       "Trek            5129381.61\n",
       "Name: revenue, dtype: float64"
      ]
     },
     "execution_count": 88,
     "metadata": {},
     "output_type": "execute_result"
    }
   ],
   "source": [
    "df.groupby(['brand_name'])['revenue'].sum()"
   ]
  },
  {
   "cell_type": "markdown",
   "metadata": {},
   "source": [
    "##### what is the total revenue for each Category Name ?"
   ]
  },
  {
   "cell_type": "code",
   "execution_count": 90,
   "metadata": {},
   "outputs": [
    {
     "data": {
      "text/plain": [
       "category_name\n",
       "Children Bicycles       327888.21\n",
       "Comfort Bicycles        438506.87\n",
       "Cruisers Bicycles      1109151.04\n",
       "Cyclocross Bicycles     799874.60\n",
       "Electric Bikes         1020236.85\n",
       "Mountain Bikes         3030775.71\n",
       "Road Bikes             1852555.60\n",
       "Name: revenue, dtype: float64"
      ]
     },
     "execution_count": 90,
     "metadata": {},
     "output_type": "execute_result"
    }
   ],
   "source": [
    "df.groupby(['category_name'])['revenue'].sum()"
   ]
  },
  {
   "cell_type": "markdown",
   "metadata": {},
   "source": [
    "##### Total Quantity for each Brand Name"
   ]
  },
  {
   "cell_type": "code",
   "execution_count": 193,
   "metadata": {},
   "outputs": [
    {
     "data": {
      "text/plain": [
       "brand_name\n",
       "Electra         2612\n",
       "Haro             331\n",
       "Heller           138\n",
       "Pure Cycles      376\n",
       "Ritchey          118\n",
       "Strider           25\n",
       "Sun Bicycles     731\n",
       "Surly            908\n",
       "Trek            1839\n",
       "Name: total_units, dtype: int64"
      ]
     },
     "execution_count": 193,
     "metadata": {},
     "output_type": "execute_result"
    }
   ],
   "source": [
    "df.groupby(['brand_name'])['total_units'].sum()"
   ]
  },
  {
   "cell_type": "markdown",
   "metadata": {},
   "source": [
    "#### Top 5 Customers by number of orders"
   ]
  },
  {
   "cell_type": "code",
   "execution_count": 223,
   "metadata": {},
   "outputs": [
    {
     "data": {
      "text/plain": [
       "customers\n",
       "Tameka Fisher     13\n",
       "Emmitt Sanchez    12\n",
       "Corene Wall       11\n",
       "Debra Burks       11\n",
       "Lyndsey Bean      11\n",
       "Name: order_id, dtype: int64"
      ]
     },
     "execution_count": 223,
     "metadata": {},
     "output_type": "execute_result"
    }
   ],
   "source": [
    "df.groupby(['customers'])['order_id'].count().nlargest(5)"
   ]
  },
  {
   "cell_type": "markdown",
   "metadata": {},
   "source": [
    "#### Bottom 5 Customers by number of orders"
   ]
  },
  {
   "cell_type": "code",
   "execution_count": 221,
   "metadata": {},
   "outputs": [
    {
     "data": {
      "text/plain": [
       "customers\n",
       "Alane Munoz         1\n",
       "Alec Peck           1\n",
       "Alejandro Norman    1\n",
       "Aleta Stone         1\n",
       "Alissa Craft        1\n",
       "Name: order_id, dtype: int64"
      ]
     },
     "execution_count": 221,
     "metadata": {},
     "output_type": "execute_result"
    }
   ],
   "source": [
    "df.groupby(['customers'])['order_id'].count().nsmallest(5)"
   ]
  },
  {
   "cell_type": "markdown",
   "metadata": {},
   "source": [
    "#### Top 2 Sales Representatives by number of orders"
   ]
  },
  {
   "cell_type": "code",
   "execution_count": 232,
   "metadata": {},
   "outputs": [
    {
     "data": {
      "text/plain": [
       "sales_rep\n",
       "Marcelene Boyer    1615\n",
       "Venita Daniel      1580\n",
       "Name: order_id, dtype: int64"
      ]
     },
     "execution_count": 232,
     "metadata": {},
     "output_type": "execute_result"
    }
   ],
   "source": [
    "df.groupby(['sales_rep'])['order_id'].count().nlargest(2)"
   ]
  },
  {
   "cell_type": "markdown",
   "metadata": {},
   "source": [
    "#### Top Store by number of orders"
   ]
  },
  {
   "cell_type": "code",
   "execution_count": 239,
   "metadata": {},
   "outputs": [
    {
     "data": {
      "text/plain": [
       "store_name\n",
       "Baldwin Bikes    3195\n",
       "Name: order_id, dtype: int64"
      ]
     },
     "execution_count": 239,
     "metadata": {},
     "output_type": "execute_result"
    }
   ],
   "source": [
    "df.groupby(['store_name'])['order_id'].count().nlargest(1)"
   ]
  },
  {
   "cell_type": "markdown",
   "metadata": {},
   "source": [
    "#### Top 5 Cities by number of orders"
   ]
  },
  {
   "cell_type": "code",
   "execution_count": 252,
   "metadata": {},
   "outputs": [
    {
     "data": {
      "text/plain": [
       "city\n",
       "Scarsdale       61\n",
       "Mount Vernon    60\n",
       "San Angelo      53\n",
       "Ballston Spa    52\n",
       "Canandaigua     50\n",
       "Name: order_id, dtype: int64"
      ]
     },
     "execution_count": 252,
     "metadata": {},
     "output_type": "execute_result"
    }
   ],
   "source": [
    "df.groupby(['city'])['order_id'].count().nlargest(5)"
   ]
  },
  {
   "cell_type": "markdown",
   "metadata": {},
   "source": [
    "#### Top 5 cities by total Revenue"
   ]
  },
  {
   "cell_type": "code",
   "execution_count": 254,
   "metadata": {},
   "outputs": [
    {
     "data": {
      "text/plain": [
       "city\n",
       "Mount Vernon     117010.21\n",
       "Ballston Spa     110065.34\n",
       "San Angelo       109729.26\n",
       "Baldwinsville    105893.45\n",
       "Howard Beach     104250.51\n",
       "Name: revenue, dtype: float64"
      ]
     },
     "execution_count": 254,
     "metadata": {},
     "output_type": "execute_result"
    }
   ],
   "source": [
    "df.groupby(['city'])['revenue'].sum().nlargest(5)"
   ]
  },
  {
   "cell_type": "markdown",
   "metadata": {},
   "source": [
    "#### Bottom 5 cities by total Revenue"
   ]
  },
  {
   "cell_type": "code",
   "execution_count": 262,
   "metadata": {},
   "outputs": [
    {
     "data": {
      "text/plain": [
       "city\n",
       "Tonawanda              1347.99\n",
       "Westbury               1437.98\n",
       "Springfield Gardens    1889.95\n",
       "Far Rockaway           3249.94\n",
       "Copperas Cove          3337.94\n",
       "Name: revenue, dtype: float64"
      ]
     },
     "execution_count": 262,
     "metadata": {},
     "output_type": "execute_result"
    }
   ],
   "source": [
    "df.groupby(['city'])['revenue'].sum().nsmallest(5)"
   ]
  },
  {
   "cell_type": "markdown",
   "metadata": {},
   "source": [
    "### Top Store by Total Revenue"
   ]
  },
  {
   "cell_type": "code",
   "execution_count": 277,
   "metadata": {},
   "outputs": [
    {
     "data": {
      "text/plain": [
       "store_name\n",
       "Baldwin Bikes    5826242.21\n",
       "Name: revenue, dtype: float64"
      ]
     },
     "execution_count": 277,
     "metadata": {},
     "output_type": "execute_result"
    }
   ],
   "source": [
    "df.groupby(['store_name'])['revenue'].sum().nlargest(1)"
   ]
  },
  {
   "cell_type": "markdown",
   "metadata": {},
   "source": [
    "### Bottom Store by Total Revenue"
   ]
  },
  {
   "cell_type": "code",
   "execution_count": 268,
   "metadata": {},
   "outputs": [
    {
     "data": {
      "text/plain": [
       "city\n",
       "Tonawanda    1347.99\n",
       "Name: revenue, dtype: float64"
      ]
     },
     "execution_count": 268,
     "metadata": {},
     "output_type": "execute_result"
    }
   ],
   "source": [
    "df.groupby(['city'])['revenue'].sum().nsmallest(1)"
   ]
  },
  {
   "cell_type": "markdown",
   "metadata": {
    "id": "3lX0YPi7zbDu"
   },
   "source": [
    "# GOOD LUCK!"
   ]
  }
 ],
 "metadata": {
  "colab": {
   "collapsed_sections": [
    "jcjhePTczbDT",
    "bclBnIb-zbDd",
    "fM5VhCv3zbDe",
    "o_PB64nIzbDf",
    "wTNMLj0FzbDk",
    "BRiR3MWNzbDl",
    "yQf6NX_FzbDm",
    "Cmf07HWEzbDo",
    "SLNiesMTzbDo",
    "1vPyGDAUzbDp",
    "jkdSl9Y4zbDq",
    "dUhsCRIrzbDr",
    "XGxgPDLxzbDr",
    "cvKtE5P0zbDr",
    "CudCgOX6zbDs",
    "T9WAl_CnzbDs",
    "qg5WsJrIzbDt",
    "c0G2Fv7nzbDt",
    "sKwL9lepzbDt",
    "2J9_exx1zbDu",
    "o2ZV6PFHzbDu",
    "tQWwaQHXzbDu",
    "TuVJ8pNbzbDv"
   ],
   "provenance": []
  },
  "kernelspec": {
   "display_name": "Python 3 (ipykernel)",
   "language": "python",
   "name": "python3"
  },
  "language_info": {
   "codemirror_mode": {
    "name": "ipython",
    "version": 3
   },
   "file_extension": ".py",
   "mimetype": "text/x-python",
   "name": "python",
   "nbconvert_exporter": "python",
   "pygments_lexer": "ipython3",
   "version": "3.12.4"
  }
 },
 "nbformat": 4,
 "nbformat_minor": 4
}
